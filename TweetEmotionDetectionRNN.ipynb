{
 "cells": [
  {
   "cell_type": "code",
   "execution_count": 5,
   "metadata": {
    "colab": {
     "base_uri": "https://localhost:8080/"
    },
    "id": "c6-Ww4CoyI9R",
    "outputId": "9d1e2536-0647-45fc-e205-df610dfd9c4b",
    "scrolled": true
   },
   "outputs": [
    {
     "name": "stdout",
     "output_type": "stream",
     "text": [
      "Collecting nlp\n",
      "  Downloading nlp-0.4.0-py3-none-any.whl (1.7 MB)\n",
      "\u001b[?25l\r",
      "\u001b[K     |▏                               | 10 kB 30.3 MB/s eta 0:00:01\r",
      "\u001b[K     |▍                               | 20 kB 36.9 MB/s eta 0:00:01\r",
      "\u001b[K     |▋                               | 30 kB 41.8 MB/s eta 0:00:01\r",
      "\u001b[K     |▉                               | 40 kB 29.1 MB/s eta 0:00:01\r",
      "\u001b[K     |█                               | 51 kB 22.1 MB/s eta 0:00:01\r",
      "\u001b[K     |█▏                              | 61 kB 24.9 MB/s eta 0:00:01\r",
      "\u001b[K     |█▍                              | 71 kB 25.2 MB/s eta 0:00:01\r",
      "\u001b[K     |█▋                              | 81 kB 27.0 MB/s eta 0:00:01\r",
      "\u001b[K     |█▉                              | 92 kB 28.8 MB/s eta 0:00:01\r",
      "\u001b[K     |██                              | 102 kB 29.5 MB/s eta 0:00:01\r",
      "\u001b[K     |██▏                             | 112 kB 29.5 MB/s eta 0:00:01\r",
      "\u001b[K     |██▍                             | 122 kB 29.5 MB/s eta 0:00:01\r",
      "\u001b[K     |██▋                             | 133 kB 29.5 MB/s eta 0:00:01\r",
      "\u001b[K     |██▊                             | 143 kB 29.5 MB/s eta 0:00:01\r",
      "\u001b[K     |███                             | 153 kB 29.5 MB/s eta 0:00:01\r",
      "\u001b[K     |███▏                            | 163 kB 29.5 MB/s eta 0:00:01\r",
      "\u001b[K     |███▍                            | 174 kB 29.5 MB/s eta 0:00:01\r",
      "\u001b[K     |███▋                            | 184 kB 29.5 MB/s eta 0:00:01\r",
      "\u001b[K     |███▊                            | 194 kB 29.5 MB/s eta 0:00:01\r",
      "\u001b[K     |████                            | 204 kB 29.5 MB/s eta 0:00:01\r",
      "\u001b[K     |████▏                           | 215 kB 29.5 MB/s eta 0:00:01\r",
      "\u001b[K     |████▍                           | 225 kB 29.5 MB/s eta 0:00:01\r",
      "\u001b[K     |████▌                           | 235 kB 29.5 MB/s eta 0:00:01\r",
      "\u001b[K     |████▊                           | 245 kB 29.5 MB/s eta 0:00:01\r",
      "\u001b[K     |█████                           | 256 kB 29.5 MB/s eta 0:00:01\r",
      "\u001b[K     |█████▏                          | 266 kB 29.5 MB/s eta 0:00:01\r",
      "\u001b[K     |█████▍                          | 276 kB 29.5 MB/s eta 0:00:01\r",
      "\u001b[K     |█████▌                          | 286 kB 29.5 MB/s eta 0:00:01\r",
      "\u001b[K     |█████▊                          | 296 kB 29.5 MB/s eta 0:00:01\r",
      "\u001b[K     |██████                          | 307 kB 29.5 MB/s eta 0:00:01\r",
      "\u001b[K     |██████▏                         | 317 kB 29.5 MB/s eta 0:00:01\r",
      "\u001b[K     |██████▎                         | 327 kB 29.5 MB/s eta 0:00:01\r",
      "\u001b[K     |██████▌                         | 337 kB 29.5 MB/s eta 0:00:01\r",
      "\u001b[K     |██████▊                         | 348 kB 29.5 MB/s eta 0:00:01\r",
      "\u001b[K     |███████                         | 358 kB 29.5 MB/s eta 0:00:01\r",
      "\u001b[K     |███████▏                        | 368 kB 29.5 MB/s eta 0:00:01\r",
      "\u001b[K     |███████▎                        | 378 kB 29.5 MB/s eta 0:00:01\r",
      "\u001b[K     |███████▌                        | 389 kB 29.5 MB/s eta 0:00:01\r",
      "\u001b[K     |███████▊                        | 399 kB 29.5 MB/s eta 0:00:01\r",
      "\u001b[K     |████████                        | 409 kB 29.5 MB/s eta 0:00:01\r",
      "\u001b[K     |████████                        | 419 kB 29.5 MB/s eta 0:00:01\r",
      "\u001b[K     |████████▎                       | 430 kB 29.5 MB/s eta 0:00:01\r",
      "\u001b[K     |████████▌                       | 440 kB 29.5 MB/s eta 0:00:01\r",
      "\u001b[K     |████████▊                       | 450 kB 29.5 MB/s eta 0:00:01\r",
      "\u001b[K     |█████████                       | 460 kB 29.5 MB/s eta 0:00:01\r",
      "\u001b[K     |█████████                       | 471 kB 29.5 MB/s eta 0:00:01\r",
      "\u001b[K     |█████████▎                      | 481 kB 29.5 MB/s eta 0:00:01\r",
      "\u001b[K     |█████████▌                      | 491 kB 29.5 MB/s eta 0:00:01\r",
      "\u001b[K     |█████████▊                      | 501 kB 29.5 MB/s eta 0:00:01\r",
      "\u001b[K     |█████████▉                      | 512 kB 29.5 MB/s eta 0:00:01\r",
      "\u001b[K     |██████████                      | 522 kB 29.5 MB/s eta 0:00:01\r",
      "\u001b[K     |██████████▎                     | 532 kB 29.5 MB/s eta 0:00:01\r",
      "\u001b[K     |██████████▌                     | 542 kB 29.5 MB/s eta 0:00:01\r",
      "\u001b[K     |██████████▊                     | 552 kB 29.5 MB/s eta 0:00:01\r",
      "\u001b[K     |██████████▉                     | 563 kB 29.5 MB/s eta 0:00:01\r",
      "\u001b[K     |███████████                     | 573 kB 29.5 MB/s eta 0:00:01\r",
      "\u001b[K     |███████████▎                    | 583 kB 29.5 MB/s eta 0:00:01\r",
      "\u001b[K     |███████████▌                    | 593 kB 29.5 MB/s eta 0:00:01\r",
      "\u001b[K     |███████████▋                    | 604 kB 29.5 MB/s eta 0:00:01\r",
      "\u001b[K     |███████████▉                    | 614 kB 29.5 MB/s eta 0:00:01\r",
      "\u001b[K     |████████████                    | 624 kB 29.5 MB/s eta 0:00:01\r",
      "\u001b[K     |████████████▎                   | 634 kB 29.5 MB/s eta 0:00:01\r",
      "\u001b[K     |████████████▌                   | 645 kB 29.5 MB/s eta 0:00:01\r",
      "\u001b[K     |████████████▋                   | 655 kB 29.5 MB/s eta 0:00:01\r",
      "\u001b[K     |████████████▉                   | 665 kB 29.5 MB/s eta 0:00:01\r",
      "\u001b[K     |█████████████                   | 675 kB 29.5 MB/s eta 0:00:01\r",
      "\u001b[K     |█████████████▎                  | 686 kB 29.5 MB/s eta 0:00:01\r",
      "\u001b[K     |█████████████▍                  | 696 kB 29.5 MB/s eta 0:00:01\r",
      "\u001b[K     |█████████████▋                  | 706 kB 29.5 MB/s eta 0:00:01\r",
      "\u001b[K     |█████████████▉                  | 716 kB 29.5 MB/s eta 0:00:01\r",
      "\u001b[K     |██████████████                  | 727 kB 29.5 MB/s eta 0:00:01\r",
      "\u001b[K     |██████████████▎                 | 737 kB 29.5 MB/s eta 0:00:01\r",
      "\u001b[K     |██████████████▍                 | 747 kB 29.5 MB/s eta 0:00:01\r",
      "\u001b[K     |██████████████▋                 | 757 kB 29.5 MB/s eta 0:00:01\r",
      "\u001b[K     |██████████████▉                 | 768 kB 29.5 MB/s eta 0:00:01\r",
      "\u001b[K     |███████████████                 | 778 kB 29.5 MB/s eta 0:00:01\r",
      "\u001b[K     |███████████████▏                | 788 kB 29.5 MB/s eta 0:00:01\r",
      "\u001b[K     |███████████████▍                | 798 kB 29.5 MB/s eta 0:00:01\r",
      "\u001b[K     |███████████████▋                | 808 kB 29.5 MB/s eta 0:00:01\r",
      "\u001b[K     |███████████████▉                | 819 kB 29.5 MB/s eta 0:00:01\r",
      "\u001b[K     |████████████████                | 829 kB 29.5 MB/s eta 0:00:01\r",
      "\u001b[K     |████████████████▏               | 839 kB 29.5 MB/s eta 0:00:01\r",
      "\u001b[K     |████████████████▍               | 849 kB 29.5 MB/s eta 0:00:01\r",
      "\u001b[K     |████████████████▋               | 860 kB 29.5 MB/s eta 0:00:01\r",
      "\u001b[K     |████████████████▉               | 870 kB 29.5 MB/s eta 0:00:01\r",
      "\u001b[K     |█████████████████               | 880 kB 29.5 MB/s eta 0:00:01\r",
      "\u001b[K     |█████████████████▏              | 890 kB 29.5 MB/s eta 0:00:01\r",
      "\u001b[K     |█████████████████▍              | 901 kB 29.5 MB/s eta 0:00:01\r",
      "\u001b[K     |█████████████████▋              | 911 kB 29.5 MB/s eta 0:00:01\r",
      "\u001b[K     |█████████████████▉              | 921 kB 29.5 MB/s eta 0:00:01\r",
      "\u001b[K     |██████████████████              | 931 kB 29.5 MB/s eta 0:00:01\r",
      "\u001b[K     |██████████████████▏             | 942 kB 29.5 MB/s eta 0:00:01\r",
      "\u001b[K     |██████████████████▍             | 952 kB 29.5 MB/s eta 0:00:01\r",
      "\u001b[K     |██████████████████▋             | 962 kB 29.5 MB/s eta 0:00:01\r",
      "\u001b[K     |██████████████████▊             | 972 kB 29.5 MB/s eta 0:00:01\r",
      "\u001b[K     |███████████████████             | 983 kB 29.5 MB/s eta 0:00:01\r",
      "\u001b[K     |███████████████████▏            | 993 kB 29.5 MB/s eta 0:00:01\r",
      "\u001b[K     |███████████████████▍            | 1.0 MB 29.5 MB/s eta 0:00:01\r",
      "\u001b[K     |███████████████████▋            | 1.0 MB 29.5 MB/s eta 0:00:01\r",
      "\u001b[K     |███████████████████▊            | 1.0 MB 29.5 MB/s eta 0:00:01\r",
      "\u001b[K     |████████████████████            | 1.0 MB 29.5 MB/s eta 0:00:01\r",
      "\u001b[K     |████████████████████▏           | 1.0 MB 29.5 MB/s eta 0:00:01\r",
      "\u001b[K     |████████████████████▍           | 1.1 MB 29.5 MB/s eta 0:00:01\r",
      "\u001b[K     |████████████████████▌           | 1.1 MB 29.5 MB/s eta 0:00:01\r",
      "\u001b[K     |████████████████████▊           | 1.1 MB 29.5 MB/s eta 0:00:01\r",
      "\u001b[K     |█████████████████████           | 1.1 MB 29.5 MB/s eta 0:00:01\r",
      "\u001b[K     |█████████████████████▏          | 1.1 MB 29.5 MB/s eta 0:00:01\r",
      "\u001b[K     |█████████████████████▍          | 1.1 MB 29.5 MB/s eta 0:00:01\r",
      "\u001b[K     |█████████████████████▌          | 1.1 MB 29.5 MB/s eta 0:00:01\r",
      "\u001b[K     |█████████████████████▊          | 1.1 MB 29.5 MB/s eta 0:00:01\r",
      "\u001b[K     |██████████████████████          | 1.1 MB 29.5 MB/s eta 0:00:01\r",
      "\u001b[K     |██████████████████████▏         | 1.1 MB 29.5 MB/s eta 0:00:01\r",
      "\u001b[K     |██████████████████████▎         | 1.2 MB 29.5 MB/s eta 0:00:01\r",
      "\u001b[K     |██████████████████████▌         | 1.2 MB 29.5 MB/s eta 0:00:01\r",
      "\u001b[K     |██████████████████████▊         | 1.2 MB 29.5 MB/s eta 0:00:01\r",
      "\u001b[K     |███████████████████████         | 1.2 MB 29.5 MB/s eta 0:00:01\r",
      "\u001b[K     |███████████████████████▏        | 1.2 MB 29.5 MB/s eta 0:00:01\r",
      "\u001b[K     |███████████████████████▎        | 1.2 MB 29.5 MB/s eta 0:00:01\r",
      "\u001b[K     |███████████████████████▌        | 1.2 MB 29.5 MB/s eta 0:00:01\r",
      "\u001b[K     |███████████████████████▊        | 1.2 MB 29.5 MB/s eta 0:00:01\r",
      "\u001b[K     |████████████████████████        | 1.2 MB 29.5 MB/s eta 0:00:01\r",
      "\u001b[K     |████████████████████████        | 1.2 MB 29.5 MB/s eta 0:00:01\r",
      "\u001b[K     |████████████████████████▎       | 1.3 MB 29.5 MB/s eta 0:00:01\r",
      "\u001b[K     |████████████████████████▌       | 1.3 MB 29.5 MB/s eta 0:00:01\r",
      "\u001b[K     |████████████████████████▊       | 1.3 MB 29.5 MB/s eta 0:00:01\r",
      "\u001b[K     |█████████████████████████       | 1.3 MB 29.5 MB/s eta 0:00:01\r",
      "\u001b[K     |█████████████████████████       | 1.3 MB 29.5 MB/s eta 0:00:01\r",
      "\u001b[K     |█████████████████████████▎      | 1.3 MB 29.5 MB/s eta 0:00:01\r",
      "\u001b[K     |█████████████████████████▌      | 1.3 MB 29.5 MB/s eta 0:00:01\r",
      "\u001b[K     |█████████████████████████▊      | 1.3 MB 29.5 MB/s eta 0:00:01\r",
      "\u001b[K     |█████████████████████████▉      | 1.3 MB 29.5 MB/s eta 0:00:01\r",
      "\u001b[K     |██████████████████████████      | 1.4 MB 29.5 MB/s eta 0:00:01\r",
      "\u001b[K     |██████████████████████████▎     | 1.4 MB 29.5 MB/s eta 0:00:01\r",
      "\u001b[K     |██████████████████████████▌     | 1.4 MB 29.5 MB/s eta 0:00:01\r",
      "\u001b[K     |██████████████████████████▊     | 1.4 MB 29.5 MB/s eta 0:00:01\r",
      "\u001b[K     |██████████████████████████▉     | 1.4 MB 29.5 MB/s eta 0:00:01\r",
      "\u001b[K     |███████████████████████████     | 1.4 MB 29.5 MB/s eta 0:00:01\r",
      "\u001b[K     |███████████████████████████▎    | 1.4 MB 29.5 MB/s eta 0:00:01\r",
      "\u001b[K     |███████████████████████████▌    | 1.4 MB 29.5 MB/s eta 0:00:01\r",
      "\u001b[K     |███████████████████████████▋    | 1.4 MB 29.5 MB/s eta 0:00:01\r",
      "\u001b[K     |███████████████████████████▉    | 1.4 MB 29.5 MB/s eta 0:00:01\r",
      "\u001b[K     |████████████████████████████    | 1.5 MB 29.5 MB/s eta 0:00:01\r",
      "\u001b[K     |████████████████████████████▎   | 1.5 MB 29.5 MB/s eta 0:00:01\r",
      "\u001b[K     |████████████████████████████▌   | 1.5 MB 29.5 MB/s eta 0:00:01\r",
      "\u001b[K     |████████████████████████████▋   | 1.5 MB 29.5 MB/s eta 0:00:01\r",
      "\u001b[K     |████████████████████████████▉   | 1.5 MB 29.5 MB/s eta 0:00:01\r",
      "\u001b[K     |█████████████████████████████   | 1.5 MB 29.5 MB/s eta 0:00:01\r",
      "\u001b[K     |█████████████████████████████▎  | 1.5 MB 29.5 MB/s eta 0:00:01\r",
      "\u001b[K     |█████████████████████████████▍  | 1.5 MB 29.5 MB/s eta 0:00:01\r",
      "\u001b[K     |█████████████████████████████▋  | 1.5 MB 29.5 MB/s eta 0:00:01\r",
      "\u001b[K     |█████████████████████████████▉  | 1.5 MB 29.5 MB/s eta 0:00:01\r",
      "\u001b[K     |██████████████████████████████  | 1.6 MB 29.5 MB/s eta 0:00:01\r",
      "\u001b[K     |██████████████████████████████▎ | 1.6 MB 29.5 MB/s eta 0:00:01\r",
      "\u001b[K     |██████████████████████████████▍ | 1.6 MB 29.5 MB/s eta 0:00:01\r",
      "\u001b[K     |██████████████████████████████▋ | 1.6 MB 29.5 MB/s eta 0:00:01\r",
      "\u001b[K     |██████████████████████████████▉ | 1.6 MB 29.5 MB/s eta 0:00:01\r",
      "\u001b[K     |███████████████████████████████ | 1.6 MB 29.5 MB/s eta 0:00:01\r",
      "\u001b[K     |███████████████████████████████▏| 1.6 MB 29.5 MB/s eta 0:00:01\r",
      "\u001b[K     |███████████████████████████████▍| 1.6 MB 29.5 MB/s eta 0:00:01\r",
      "\u001b[K     |███████████████████████████████▋| 1.6 MB 29.5 MB/s eta 0:00:01\r",
      "\u001b[K     |███████████████████████████████▉| 1.6 MB 29.5 MB/s eta 0:00:01\r",
      "\u001b[K     |████████████████████████████████| 1.7 MB 29.5 MB/s \n",
      "\u001b[?25hRequirement already satisfied: tqdm>=4.27 in /usr/local/lib/python3.7/dist-packages (from nlp) (4.64.0)\n",
      "Requirement already satisfied: pyarrow>=0.16.0 in /usr/local/lib/python3.7/dist-packages (from nlp) (6.0.1)\n",
      "Requirement already satisfied: numpy in /usr/local/lib/python3.7/dist-packages (from nlp) (1.21.6)\n",
      "Collecting xxhash\n",
      "  Downloading xxhash-3.0.0-cp37-cp37m-manylinux_2_17_x86_64.manylinux2014_x86_64.whl (212 kB)\n",
      "\u001b[K     |████████████████████████████████| 212 kB 75.4 MB/s \n",
      "\u001b[?25hRequirement already satisfied: filelock in /usr/local/lib/python3.7/dist-packages (from nlp) (3.6.0)\n",
      "Requirement already satisfied: pandas in /usr/local/lib/python3.7/dist-packages (from nlp) (1.3.5)\n",
      "Requirement already satisfied: requests>=2.19.0 in /usr/local/lib/python3.7/dist-packages (from nlp) (2.23.0)\n",
      "Requirement already satisfied: dill in /usr/local/lib/python3.7/dist-packages (from nlp) (0.3.4)\n",
      "Requirement already satisfied: chardet<4,>=3.0.2 in /usr/local/lib/python3.7/dist-packages (from requests>=2.19.0->nlp) (3.0.4)\n",
      "Requirement already satisfied: certifi>=2017.4.17 in /usr/local/lib/python3.7/dist-packages (from requests>=2.19.0->nlp) (2021.10.8)\n",
      "Requirement already satisfied: urllib3!=1.25.0,!=1.25.1,<1.26,>=1.21.1 in /usr/local/lib/python3.7/dist-packages (from requests>=2.19.0->nlp) (1.24.3)\n",
      "Requirement already satisfied: idna<3,>=2.5 in /usr/local/lib/python3.7/dist-packages (from requests>=2.19.0->nlp) (2.10)\n",
      "Requirement already satisfied: pytz>=2017.3 in /usr/local/lib/python3.7/dist-packages (from pandas->nlp) (2022.1)\n",
      "Requirement already satisfied: python-dateutil>=2.7.3 in /usr/local/lib/python3.7/dist-packages (from pandas->nlp) (2.8.2)\n",
      "Requirement already satisfied: six>=1.5 in /usr/local/lib/python3.7/dist-packages (from python-dateutil>=2.7.3->pandas->nlp) (1.15.0)\n",
      "Installing collected packages: xxhash, nlp\n",
      "Successfully installed nlp-0.4.0 xxhash-3.0.0\n"
     ]
    }
   ],
   "source": [
    "!pip install nlp"
   ]
  },
  {
   "cell_type": "markdown",
   "metadata": {
    "id": "ItV8Wo3xymNc"
   },
   "source": [
    "### Importing Libraries:"
   ]
  },
  {
   "cell_type": "code",
   "execution_count": 6,
   "metadata": {
    "id": "Y-VYxr9ZyNIp"
   },
   "outputs": [],
   "source": [
    "import tensorflow as tf\n",
    "import matplotlib.pyplot as plt\n",
    "import numpy as np\n",
    "import nlp \n",
    "import random"
   ]
  },
  {
   "cell_type": "markdown",
   "metadata": {},
   "source": [
    "### Functions to plot the graphs and confusion matrix:"
   ]
  },
  {
   "cell_type": "code",
   "execution_count": 59,
   "metadata": {
    "colab": {
     "base_uri": "https://localhost:8080/"
    },
    "id": "sQincLdjyjjw",
    "outputId": "c0faf1b2-ba31-488e-f4d1-aba39407d6c5"
   },
   "outputs": [
    {
     "name": "stdout",
     "output_type": "stream",
     "text": [
      "Using TensorFlow version 2.8.0\n"
     ]
    }
   ],
   "source": [
    "def show_history(h):\n",
    "    epochs_trained = len(h.history['loss'])\n",
    "    plt.figure(figsize=(16, 6))\n",
    "\n",
    "    plt.subplot(1, 2, 1)\n",
    "    plt.plot(range(0, epochs_trained), h.history.get('accuracy'), label='Training')\n",
    "    plt.plot(range(0, epochs_trained), h.history.get('val_accuracy'), label='Validation')\n",
    "    plt.ylim([0., 1.])\n",
    "    plt.xlabel('Epochs')\n",
    "    plt.ylabel('Accuracy')\n",
    "    plt.legend()\n",
    "\n",
    "    plt.subplot(1, 2, 2)\n",
    "    plt.plot(range(0, epochs_trained), h.history.get('loss'), label='Training')\n",
    "    plt.plot(range(0, epochs_trained), h.history.get('val_loss'), label='Validation')\n",
    "    plt.xlabel('Epochs')\n",
    "    plt.ylabel('Loss')\n",
    "    plt.legend()\n",
    "    plt.show()\n",
    "\n",
    "    \n",
    "def show_confusion_matrix(y_true, y_pred, classes):\n",
    "    from sklearn.metrics import confusion_matrix\n",
    "    \n",
    "    cm = confusion_matrix(y_true, y_pred, normalize='true')\n",
    "\n",
    "    plt.figure(figsize=(8, 8))\n",
    "    sp = plt.subplot(1, 1, 1)\n",
    "    ctx = sp.matshow(cm)\n",
    "    plt.xticks(list(range(0, 6)), labels=classes)\n",
    "    plt.yticks(list(range(0, 6)), labels=classes)\n",
    "    plt.colorbar(ctx)\n",
    "    plt.show()\n",
    "\n",
    "    \n",
    "print('Using TensorFlow version', tf.__version__)"
   ]
  },
  {
   "cell_type": "markdown",
   "metadata": {
    "id": "Aw3DdVZyzSJq"
   },
   "source": [
    "### Loading the dataset:"
   ]
  },
  {
   "cell_type": "code",
   "execution_count": 8,
   "metadata": {
    "colab": {
     "base_uri": "https://localhost:8080/",
     "height": 251,
     "referenced_widgets": [
      "cd3e11e96b77422093b540336e63e4da",
      "7e2381cd5fb843028e28bac7f23b0dd6",
      "7666ecaf4ec6410697dc743f2e25672c",
      "172fedc7ca6648d1ad1eccad377b7e2d",
      "469a792be4404715984aa48549231280",
      "244b7fe9fa0b4c89a04ba8a2b4fa68ed",
      "db098423eae14221ae4b84d0d0a259de",
      "78dedc740b1e4728b799b76f680c981c",
      "ad27f7e8201c48fdb827e63d801357e7",
      "7002bcc44c7a47ee9ca9954dbe4c84d6",
      "8727dc999abc492c9cd501ad30ec0b94",
      "ad14a79c75634c15b0d12c876073ac1e",
      "452421aaf98349e49a5b3376874078e0",
      "c81f128c4197417cbf443a61f0fface4",
      "a35c496f5b114ae3b30006496d811104",
      "71798113f08447d08a5eccfd9287e908",
      "cca3ff185e18409bb1d9a471a1979e69",
      "d0daab54939c43ffb1e3a9ac611808f2",
      "e71d75214272480c9281d4a66915c7c2",
      "6edbb1832f3c48668dc63720bbf2d3fe",
      "0a53104ec5ee42619c65fafc8fe0acfb",
      "f17dd0ca5050459eb15f91f47a574dcc",
      "e05f7daa894e46d28dd1ee07f8666097",
      "3e90c019c3094186af2a90d877052948",
      "257df433434345a19a2d86bc90f101e7",
      "cf4b4467237c483ead461ef9f52eda58",
      "c1383f452ca4482396d90afb6ae4c742",
      "94ad71379dde42c5bf3e3d4084d28331",
      "c58510a5ad2e47f2a24264343ba7e20b",
      "f0c19c7674c84f68b1b5e5ee8d95d1e6",
      "5456bf9e79c04e79a1b76b75b945f703",
      "1d009665ef2f4111b331e4ea280b54dc",
      "a3ad99215a1f4cf68cf638a6ed80e16e",
      "6ef91e5ec06c4eb28c041bf7fb446d89",
      "795a1238ea3847c0beab9aa9a12d3d31",
      "6bfd83e7fbe4413c94a5dea60ae141ac",
      "284ecfa9e7af4246b7648108a8b89d04",
      "b42f4088669f4b949f9ac2c55bef2324",
      "b7f79d318b3443a48a3b852890ce378b",
      "11fe443f07914702984192523f9dcf4d",
      "47b853c5f8604418ae4ee7c2f177abf3",
      "4e9105895ee3414683dc4009e0b0bddf",
      "56a0e488a5cc40bab03df543b2f8338a",
      "d9149b10b25a4293950f6c022aea119c",
      "67c95cd18517403b88b7c74d98146fbe",
      "5f7fa5469a824b2ab1328f5d0acc36ad",
      "89be45c1657c4f76842c2cb9ccb4dee2",
      "ec31a20da16b4bcebbb015f46651a0da",
      "ecaf51f157bc42b8bda51b5cae1584d1",
      "707fe70bf6484f369248823035ad31fb",
      "e810966dbf2940619446af10b4cf2ba9",
      "e967c6fd4e0143f1aed9d7798f8ab5f6",
      "b3e82452571e460f88ca1645bd6a1d49",
      "02a351363aac478ca4c5721322f29752",
      "99142e5e6a0f4fdd8feed72b9e8124fa",
      "a4866f226fc1405fad6162af751f6313",
      "b620a45763f347cf946a3b6148422d23",
      "2317ca054e074cf8bb13b0bc2aeb3c59",
      "e6e159237e4b41bda980bcfd4b1012b5",
      "e4b661f7a67d441ca8a448203ba9435b",
      "fb753bdec9db4ef89afcffe2a82ecbc1",
      "3e7c24272de9448a9ce0778507d861c0",
      "82eb76f986b74f35b92243e2cc7b8598",
      "026972487bec46778d8f25b1e3e56411",
      "849c2b39725e4b329c15292484c7d48d",
      "51383fe459554ef689c8c7bffc55d5a7",
      "b198c44b0b2c40fbae39a6ce38dd30a6",
      "0baaa6bddef24f7b9810195aef9f2689",
      "fabf5a6086ba402ab98d97321c288f16",
      "a07fa1479f1f4bc3a585ef2f43bffe8b",
      "f8496495cc9e4c06be42e9ac8d80ce22",
      "50f2efd73c544a269af05212d307408f",
      "5dbcd87cd40a4d0abc9d707521e58813",
      "838315d3d6fa4d92a95bc272714b96e5",
      "2c8f387e9e1a42049ade356b44dd16a5",
      "d09f830356e546d0a3c8be6ef957b7a6",
      "51a8a948663c439184367f0c65b02c2b",
      "d3f15f743edf470e9f27006c945bc17b",
      "95a2e9b347e44aa389bdc02d2c3ec169",
      "47be8798d0844292910896e705fefe11",
      "942340ab507d4d8790abd35b6b03c3ac",
      "9b411a141d744bbe823fac2007b507ef",
      "ed8cf62963894de99b2420e395002739",
      "4d7e177983a5452e886ac63d1b3edbd2",
      "138c2e52fc304b4ea2d4e6d3afb68895",
      "6f6f88d64e704e899e9d8c882ffda5ab",
      "9395e2bda5414481ac71a144bb6d2e40",
      "8d304048b1d342c7950d6adbedc6c481"
     ]
    },
    "id": "zXS6VRp4y-33",
    "outputId": "2ae38619-31fb-40de-e584-10df91e46ff2"
   },
   "outputs": [
    {
     "data": {
      "application/vnd.jupyter.widget-view+json": {
       "model_id": "cd3e11e96b77422093b540336e63e4da",
       "version_major": 2,
       "version_minor": 0
      },
      "text/plain": [
       "Downloading:   0%|          | 0.00/3.41k [00:00<?, ?B/s]"
      ]
     },
     "metadata": {},
     "output_type": "display_data"
    },
    {
     "data": {
      "application/vnd.jupyter.widget-view+json": {
       "model_id": "ad14a79c75634c15b0d12c876073ac1e",
       "version_major": 2,
       "version_minor": 0
      },
      "text/plain": [
       "Downloading:   0%|          | 0.00/6.01k [00:00<?, ?B/s]"
      ]
     },
     "metadata": {},
     "output_type": "display_data"
    },
    {
     "name": "stderr",
     "output_type": "stream",
     "text": [
      "Using custom data configuration default\n"
     ]
    },
    {
     "name": "stdout",
     "output_type": "stream",
     "text": [
      "Downloading and preparing dataset emotion/default (download: 1.97 MiB, generated: 2.09 MiB, post-processed: Unknown sizetotal: 4.06 MiB) to /root/.cache/huggingface/datasets/emotion/default/0.0.0/84e07cd366f4451464584cdbd4958f512bcaddb1e921341e07298ce8a9ce42f4...\n"
     ]
    },
    {
     "data": {
      "application/vnd.jupyter.widget-view+json": {
       "model_id": "e05f7daa894e46d28dd1ee07f8666097",
       "version_major": 2,
       "version_minor": 0
      },
      "text/plain": [
       "Downloading:   0%|          | 0.00/1.66M [00:00<?, ?B/s]"
      ]
     },
     "metadata": {},
     "output_type": "display_data"
    },
    {
     "data": {
      "application/vnd.jupyter.widget-view+json": {
       "model_id": "6ef91e5ec06c4eb28c041bf7fb446d89",
       "version_major": 2,
       "version_minor": 0
      },
      "text/plain": [
       "Downloading:   0%|          | 0.00/204k [00:00<?, ?B/s]"
      ]
     },
     "metadata": {},
     "output_type": "display_data"
    },
    {
     "data": {
      "application/vnd.jupyter.widget-view+json": {
       "model_id": "67c95cd18517403b88b7c74d98146fbe",
       "version_major": 2,
       "version_minor": 0
      },
      "text/plain": [
       "Downloading:   0%|          | 0.00/207k [00:00<?, ?B/s]"
      ]
     },
     "metadata": {},
     "output_type": "display_data"
    },
    {
     "data": {
      "application/vnd.jupyter.widget-view+json": {
       "model_id": "a4866f226fc1405fad6162af751f6313",
       "version_major": 2,
       "version_minor": 0
      },
      "text/plain": [
       "0 examples [00:00, ? examples/s]"
      ]
     },
     "metadata": {},
     "output_type": "display_data"
    },
    {
     "data": {
      "application/vnd.jupyter.widget-view+json": {
       "model_id": "b198c44b0b2c40fbae39a6ce38dd30a6",
       "version_major": 2,
       "version_minor": 0
      },
      "text/plain": [
       "0 examples [00:00, ? examples/s]"
      ]
     },
     "metadata": {},
     "output_type": "display_data"
    },
    {
     "data": {
      "application/vnd.jupyter.widget-view+json": {
       "model_id": "d3f15f743edf470e9f27006c945bc17b",
       "version_major": 2,
       "version_minor": 0
      },
      "text/plain": [
       "0 examples [00:00, ? examples/s]"
      ]
     },
     "metadata": {},
     "output_type": "display_data"
    },
    {
     "name": "stdout",
     "output_type": "stream",
     "text": [
      "Dataset emotion downloaded and prepared to /root/.cache/huggingface/datasets/emotion/default/0.0.0/84e07cd366f4451464584cdbd4958f512bcaddb1e921341e07298ce8a9ce42f4. Subsequent calls will reuse this data.\n"
     ]
    }
   ],
   "source": [
    "dataset=nlp.load_dataset('emotion')"
   ]
  },
  {
   "cell_type": "markdown",
   "metadata": {},
   "source": [
    "### Setting the training and the testing dataset:"
   ]
  },
  {
   "cell_type": "code",
   "execution_count": 9,
   "metadata": {
    "id": "dDUpj_Jgzuxw"
   },
   "outputs": [],
   "source": [
    "train=dataset['train']\n",
    "validation=dataset['validation']\n",
    "test=dataset['test']"
   ]
  },
  {
   "cell_type": "code",
   "execution_count": 10,
   "metadata": {
    "id": "ku1nJfNO3X3e"
   },
   "outputs": [],
   "source": [
    "def get_tweets(dataset):\n",
    "  tweets=[x['text'] for x in dataset]\n",
    "  labels=[x['label'] for x in dataset]\n",
    "  return tweets,labels"
   ]
  },
  {
   "cell_type": "code",
   "execution_count": 11,
   "metadata": {
    "id": "Iuoj2NQI3X7O"
   },
   "outputs": [],
   "source": [
    "tweets,labels=get_tweets(train)"
   ]
  },
  {
   "cell_type": "code",
   "execution_count": 12,
   "metadata": {
    "colab": {
     "base_uri": "https://localhost:8080/",
     "height": 35
    },
    "id": "03Jr_7mj4lVN",
    "outputId": "b956c358-0f63-436d-aab1-1cfeb7b00314"
   },
   "outputs": [
    {
     "data": {
      "application/vnd.google.colaboratory.intrinsic+json": {
       "type": "string"
      },
      "text/plain": [
       "'i didnt feel humiliated'"
      ]
     },
     "execution_count": 12,
     "metadata": {},
     "output_type": "execute_result"
    }
   ],
   "source": [
    "tweets[0]"
   ]
  },
  {
   "cell_type": "markdown",
   "metadata": {},
   "source": [
    "### Tokenizing the data"
   ]
  },
  {
   "cell_type": "code",
   "execution_count": 51,
   "metadata": {
    "id": "Gu-9VWjQ0PAh"
   },
   "outputs": [],
   "source": [
    "from tensorflow.keras.preprocessing.text import Tokenizer"
   ]
  },
  {
   "cell_type": "code",
   "execution_count": 14,
   "metadata": {
    "id": "qBGchbJj2-xc"
   },
   "outputs": [],
   "source": [
    "tokenizer=Tokenizer(num_words=10000,oov_token='<UNK>')"
   ]
  },
  {
   "cell_type": "code",
   "execution_count": 15,
   "metadata": {
    "id": "xJAi6QQ43P_v"
   },
   "outputs": [],
   "source": [
    "tokenizer.fit_on_texts(tweets)"
   ]
  },
  {
   "cell_type": "code",
   "execution_count": 16,
   "metadata": {
    "colab": {
     "base_uri": "https://localhost:8080/"
    },
    "id": "eDK3wwx1499j",
    "outputId": "7dd9360d-1c33-45d8-e213-a51b7d87c8bc"
   },
   "outputs": [
    {
     "data": {
      "text/plain": [
       "[[2, 139, 3, 679]]"
      ]
     },
     "execution_count": 16,
     "metadata": {},
     "output_type": "execute_result"
    }
   ],
   "source": [
    "tokenizer.texts_to_sequences([tweets[0]])"
   ]
  },
  {
   "cell_type": "markdown",
   "metadata": {},
   "source": [
    "### Checking the length of the tweets:"
   ]
  },
  {
   "cell_type": "code",
   "execution_count": 19,
   "metadata": {
    "colab": {
     "base_uri": "https://localhost:8080/",
     "height": 265
    },
    "id": "VVatzv6N5ESz",
    "outputId": "809968cb-c4bf-4b5c-9613-0435d6f463c0"
   },
   "outputs": [
    {
     "data": {
      "image/png": "[encoded data removed]",
      "text/plain": [
       "<Figure size 432x288 with 1 Axes>"
      ]
     },
     "metadata": {
      "needs_background": "light"
     },
     "output_type": "display_data"
    }
   ],
   "source": [
    "lengths =[len(x.split(' ')) for x in tweets]\n",
    "plt.hist(lengths,bins=len(set(lengths)))\n",
    "plt.show()"
   ]
  },
  {
   "cell_type": "markdown",
   "metadata": {
    "id": "SsA8eljkU2iJ"
   },
   "source": [
    "We can see from the graph that the maximum number of tweets contain 10 to 20 words while only some tweets contains words more than 50"
   ]
  },
  {
   "cell_type": "markdown",
   "metadata": {},
   "source": [
    "### Padding the tweets to a length"
   ]
  },
  {
   "cell_type": "code",
   "execution_count": 20,
   "metadata": {
    "id": "Ez-3QkPpV47F"
   },
   "outputs": [],
   "source": [
    "from tensorflow.keras.preprocessing.sequence import pad_sequences"
   ]
  },
  {
   "cell_type": "code",
   "execution_count": 21,
   "metadata": {
    "id": "NvnEDt4B7x_s"
   },
   "outputs": [],
   "source": [
    "maxlen=50\n",
    "\n",
    "def get_sequences(tokenizer,tweets):\n",
    "  sequences=tokenizer.texts_to_sequences(tweets)\n",
    "  padded=pad_sequences(sequences,truncating='post',padding='post',maxlen=maxlen)\n",
    "  return padded"
   ]
  },
  {
   "cell_type": "code",
   "execution_count": 22,
   "metadata": {
    "id": "nLLLqfQzWUz2"
   },
   "outputs": [],
   "source": [
    "padded_train_sequences=get_sequences(tokenizer,tweets)"
   ]
  },
  {
   "cell_type": "code",
   "execution_count": 23,
   "metadata": {
    "colab": {
     "base_uri": "https://localhost:8080/"
    },
    "id": "vvoePuDaWab4",
    "outputId": "a2ae021f-242d-4768-bc61-7f0c12e8de20"
   },
   "outputs": [
    {
     "data": {
      "text/plain": [
       "array([  2, 139,   3, 679,   0,   0,   0,   0,   0,   0,   0,   0,   0,\n",
       "         0,   0,   0,   0,   0,   0,   0,   0,   0,   0,   0,   0,   0,\n",
       "         0,   0,   0,   0,   0,   0,   0,   0,   0,   0,   0,   0,   0,\n",
       "         0,   0,   0,   0,   0,   0,   0,   0,   0,   0,   0], dtype=int32)"
      ]
     },
     "execution_count": 23,
     "metadata": {},
     "output_type": "execute_result"
    }
   ],
   "source": [
    "padded_train_sequences[0]"
   ]
  },
  {
   "cell_type": "code",
   "execution_count": 88,
   "metadata": {
    "colab": {
     "base_uri": "https://localhost:8080/"
    },
    "id": "ajTMiPeyWdLG",
    "outputId": "b035a9db-5000-4da5-9b9e-26aadd7f7d43"
   },
   "outputs": [
    {
     "data": {
      "text/plain": [
       "{'anger', 'fear', 'joy', 'love', 'sadness', 'surprise'}"
      ]
     },
     "execution_count": 88,
     "metadata": {},
     "output_type": "execute_result"
    }
   ],
   "source": [
    "classes=set(labels)\n",
    "classes\n"
   ]
  },
  {
   "cell_type": "code",
   "execution_count": 33,
   "metadata": {
    "colab": {
     "base_uri": "https://localhost:8080/",
     "height": 265
    },
    "id": "bB4NQkMqXKPo",
    "outputId": "27ecae2e-1783-45dc-94c5-95b4ac19fad6"
   },
   "outputs": [
    {
     "data": {
      "image/png": "[encoded data removed]",
      "text/plain": [
       "<Figure size 432x288 with 1 Axes>"
      ]
     },
     "metadata": {
      "needs_background": "light"
     },
     "output_type": "display_data"
    }
   ],
   "source": [
    "plt.hist(labels,bins=12)\n",
    "plt.show()"
   ]
  },
  {
   "cell_type": "code",
   "execution_count": 35,
   "metadata": {
    "id": "IL26oaruXZMY"
   },
   "outputs": [],
   "source": [
    "tolabels=dict((j,i) for i,j in enumerate(classes))\n",
    "toclasses=dict((v,k) for k,v in tolabels.items())"
   ]
  },
  {
   "cell_type": "code",
   "execution_count": 36,
   "metadata": {
    "colab": {
     "base_uri": "https://localhost:8080/"
    },
    "id": "wNYBp2t9Ycvy",
    "outputId": "a4b7c052-f860-4971-a4aa-c6b666f28bc0"
   },
   "outputs": [
    {
     "data": {
      "text/plain": [
       "{'anger': 0, 'fear': 1, 'joy': 2, 'love': 3, 'sadness': 5, 'surprise': 4}"
      ]
     },
     "execution_count": 36,
     "metadata": {},
     "output_type": "execute_result"
    }
   ],
   "source": [
    "tolabels"
   ]
  },
  {
   "cell_type": "code",
   "execution_count": 37,
   "metadata": {
    "colab": {
     "base_uri": "https://localhost:8080/"
    },
    "id": "j_Y6cdrFYmHf",
    "outputId": "1a9675fe-c9f5-4dc6-a1ea-c7fa3c450770"
   },
   "outputs": [
    {
     "data": {
      "text/plain": [
       "{0: 'anger', 1: 'fear', 2: 'joy', 3: 'love', 4: 'surprise', 5: 'sadness'}"
      ]
     },
     "execution_count": 37,
     "metadata": {},
     "output_type": "execute_result"
    }
   ],
   "source": [
    "toclasses"
   ]
  },
  {
   "cell_type": "code",
   "execution_count": 39,
   "metadata": {
    "id": "DciPiReXYr89"
   },
   "outputs": [],
   "source": [
    "train_labels_func=lambda labels:np.array([tolabels.get(x) for x in labels])"
   ]
  },
  {
   "cell_type": "code",
   "execution_count": 40,
   "metadata": {
    "id": "hJtUsnWzZ94P"
   },
   "outputs": [],
   "source": [
    "train_labels=train_labels_func(labels)"
   ]
  },
  {
   "cell_type": "markdown",
   "metadata": {},
   "source": [
    "### Model Architecture:"
   ]
  },
  {
   "cell_type": "code",
   "execution_count": 48,
   "metadata": {
    "id": "dPama70qaB38"
   },
   "outputs": [],
   "source": [
    "model=tf.keras.Sequential([\n",
    "                           tf.keras.layers.Embedding(10000,16,input_length=maxlen),\n",
    "                           tf.keras.layers.Bidirectional(tf.keras.layers.LSTM(20,return_sequences=True)),\n",
    "                           tf.keras.layers.Bidirectional(tf.keras.layers.LSTM(20)),\n",
    "                           tf.keras.layers.Dense(6,activation='softmax')\n",
    "])\n",
    "\n",
    "model.compile(\n",
    "    loss='sparse_categorical_crossentropy',\n",
    "    optimizer='adam',\n",
    "    metrics=['accuracy']\n",
    ")"
   ]
  },
  {
   "cell_type": "code",
   "execution_count": 49,
   "metadata": {
    "colab": {
     "base_uri": "https://localhost:8080/"
    },
    "id": "QF5hLpC8aDU-",
    "outputId": "c992683c-122b-4c25-8166-2c49ddf8ec13"
   },
   "outputs": [
    {
     "name": "stdout",
     "output_type": "stream",
     "text": [
      "Model: \"sequential_1\"\n",
      "_________________________________________________________________\n",
      " Layer (type)                Output Shape              Param #   \n",
      "=================================================================\n",
      " embedding_3 (Embedding)     (None, 50, 16)            160000    \n",
      "                                                                 \n",
      " bidirectional_4 (Bidirectio  (None, 50, 40)           5920      \n",
      " nal)                                                            \n",
      "                                                                 \n",
      " bidirectional_5 (Bidirectio  (None, 40)               9760      \n",
      " nal)                                                            \n",
      "                                                                 \n",
      " dense_1 (Dense)             (None, 6)                 246       \n",
      "                                                                 \n",
      "=================================================================\n",
      "Total params: 175,926\n",
      "Trainable params: 175,926\n",
      "Non-trainable params: 0\n",
      "_________________________________________________________________\n"
     ]
    }
   ],
   "source": [
    "model.summary()"
   ]
  },
  {
   "cell_type": "code",
   "execution_count": 68,
   "metadata": {
    "id": "ReId1kbLgTS7"
   },
   "outputs": [],
   "source": [
    "val_tweets,val_labels=get_tweets(validation)\n",
    "val_sequences=get_sequences(tokenizer,val_tweets)\n",
    "val_lables=train_labels_func(val_labels)"
   ]
  },
  {
   "cell_type": "code",
   "execution_count": 69,
   "metadata": {
    "colab": {
     "base_uri": "https://localhost:8080/"
    },
    "id": "ajoDV0hohb0Y",
    "outputId": "8fdef072-d8a1-41b2-b3d1-6174c0f9992d"
   },
   "outputs": [
    {
     "data": {
      "text/plain": [
       "('im feeling quite sad and sorry for myself but ill snap out of it soon', 5)"
      ]
     },
     "execution_count": 69,
     "metadata": {},
     "output_type": "execute_result"
    }
   ],
   "source": [
    "val_tweets[0],val_lables[0]"
   ]
  },
  {
   "cell_type": "markdown",
   "metadata": {},
   "source": [
    "### Fitting the model:"
   ]
  },
  {
   "cell_type": "code",
   "execution_count": 57,
   "metadata": {
    "colab": {
     "base_uri": "https://localhost:8080/"
    },
    "id": "XxjaLMEPhg5k",
    "outputId": "c8544502-d77d-417d-f7da-5f62d1ac4fb9"
   },
   "outputs": [
    {
     "name": "stdout",
     "output_type": "stream",
     "text": [
      "Epoch 1/25\n",
      "500/500 [==============================] - 17s 16ms/step - loss: 1.3048 - accuracy: 0.4799 - val_loss: 0.8287 - val_accuracy: 0.6920\n",
      "Epoch 2/25\n",
      "500/500 [==============================] - 7s 13ms/step - loss: 0.5704 - accuracy: 0.7942 - val_loss: 0.5960 - val_accuracy: 0.8220\n",
      "Epoch 3/25\n",
      "500/500 [==============================] - 7s 13ms/step - loss: 0.3044 - accuracy: 0.9023 - val_loss: 0.3911 - val_accuracy: 0.8730\n",
      "Epoch 4/25\n",
      "500/500 [==============================] - 7s 13ms/step - loss: 0.1971 - accuracy: 0.9376 - val_loss: 0.3687 - val_accuracy: 0.8865\n",
      "Epoch 5/25\n",
      "500/500 [==============================] - 7s 14ms/step - loss: 0.1520 - accuracy: 0.9507 - val_loss: 0.4134 - val_accuracy: 0.8820\n",
      "Epoch 6/25\n",
      "500/500 [==============================] - 7s 14ms/step - loss: 0.1222 - accuracy: 0.9616 - val_loss: 0.3514 - val_accuracy: 0.8970\n",
      "Epoch 7/25\n",
      "500/500 [==============================] - 7s 14ms/step - loss: 0.0991 - accuracy: 0.9691 - val_loss: 0.3683 - val_accuracy: 0.8920\n",
      "Epoch 8/25\n",
      "500/500 [==============================] - 7s 13ms/step - loss: 0.0872 - accuracy: 0.9716 - val_loss: 0.3344 - val_accuracy: 0.8985\n",
      "Epoch 9/25\n",
      "500/500 [==============================] - 7s 13ms/step - loss: 0.0762 - accuracy: 0.9771 - val_loss: 0.3714 - val_accuracy: 0.8995\n",
      "Epoch 10/25\n",
      "500/500 [==============================] - 7s 13ms/step - loss: 0.0630 - accuracy: 0.9804 - val_loss: 0.3542 - val_accuracy: 0.9050\n",
      "Epoch 11/25\n",
      "500/500 [==============================] - 7s 13ms/step - loss: 0.0580 - accuracy: 0.9821 - val_loss: 0.4572 - val_accuracy: 0.8885\n",
      "Epoch 12/25\n",
      "500/500 [==============================] - 7s 13ms/step - loss: 0.0598 - accuracy: 0.9811 - val_loss: 0.3709 - val_accuracy: 0.9100\n",
      "Epoch 13/25\n",
      "500/500 [==============================] - 7s 14ms/step - loss: 0.0432 - accuracy: 0.9858 - val_loss: 0.4446 - val_accuracy: 0.8955\n",
      "Epoch 14/25\n",
      "500/500 [==============================] - 7s 14ms/step - loss: 0.0446 - accuracy: 0.9856 - val_loss: 0.3893 - val_accuracy: 0.9065\n",
      "Epoch 15/25\n",
      "500/500 [==============================] - 7s 13ms/step - loss: 0.0426 - accuracy: 0.9861 - val_loss: 0.4248 - val_accuracy: 0.9020\n"
     ]
    }
   ],
   "source": [
    "h=model.fit(\n",
    "    padded_train_sequences,train_labels,\n",
    "    validation_data=(val_sequences,val_lables),\n",
    "    epochs=25,\n",
    "    callbacks=[tf.keras.callbacks.EarlyStopping(monitor='val_accuracy',patience=3)]\n",
    ")"
   ]
  },
  {
   "cell_type": "code",
   "execution_count": 61,
   "metadata": {
    "colab": {
     "base_uri": "https://localhost:8080/",
     "height": 392
    },
    "id": "VbWQaEv7izUr",
    "outputId": "84712ed1-d687-4acf-9e23-8c0d47f3615a"
   },
   "outputs": [
    {
     "data": {
      "image/png": "[encoded data removed]",
      "text/plain": [
       "<Figure size 1152x432 with 2 Axes>"
      ]
     },
     "metadata": {
      "needs_background": "light"
     },
     "output_type": "display_data"
    }
   ],
   "source": [
    "show_history(h)"
   ]
  },
  {
   "cell_type": "code",
   "execution_count": 70,
   "metadata": {
    "id": "0yjr-wWDjsYF"
   },
   "outputs": [],
   "source": [
    "test_tweets,test_labels=get_tweets(test)\n",
    "test_sequences=get_sequences(tokenizer,test_tweets)\n",
    "test_labels=train_labels_func(test_labels)"
   ]
  },
  {
   "cell_type": "code",
   "execution_count": 71,
   "metadata": {
    "colab": {
     "base_uri": "https://localhost:8080/"
    },
    "id": "xam2v6qPk8eI",
    "outputId": "01a04be4-53cd-491f-8bf4-3e3e385890ef"
   },
   "outputs": [
    {
     "data": {
      "text/plain": [
       "('im feeling rather rotten so im not very ambitious right now', 5)"
      ]
     },
     "execution_count": 71,
     "metadata": {},
     "output_type": "execute_result"
    }
   ],
   "source": [
    "test_tweets[0],test_labels[0]"
   ]
  },
  {
   "cell_type": "code",
   "execution_count": 72,
   "metadata": {
    "colab": {
     "base_uri": "https://localhost:8080/"
    },
    "id": "9m4OYIUgkcU8",
    "outputId": "7b848006-1211-42ac-cb69-9d3b8e5ecb55"
   },
   "outputs": [
    {
     "name": "stdout",
     "output_type": "stream",
     "text": [
      "63/63 [==============================] - 0s 7ms/step - loss: 0.4642 - accuracy: 0.8885\n"
     ]
    }
   ],
   "source": [
    "_=model.evaluate(test_sequences,test_labels)"
   ]
  },
  {
   "cell_type": "code",
   "execution_count": 81,
   "metadata": {
    "colab": {
     "base_uri": "https://localhost:8080/"
    },
    "id": "kRioaiR4khLv",
    "outputId": "4603662b-0d80-416c-b5b7-800faa2e3d86"
   },
   "outputs": [
    {
     "name": "stdout",
     "output_type": "stream",
     "text": [
      "Sentence: i said i feel ugly today\n",
      "Emotion: sadness\n",
      "Predicted Emotion: sadness\n"
     ]
    }
   ],
   "source": [
    "i=random.randint(0,len(test_labels)-1)\n",
    "print('Sentence:',test_tweets[i])\n",
    "print('Emotion:',toclasses[test_labels[i]])\n",
    "\n",
    "p=model.predict(np.expand_dims(test_sequences[i],axis=0))[0]\n",
    "pred_class= toclasses[np.argmax(p).astype('uint8')]\n",
    "print('Predicted Emotion:',pred_class)"
   ]
  },
  {
   "cell_type": "code",
   "execution_count": 87,
   "metadata": {
    "id": "XbS_GDOXp-wo"
   },
   "outputs": [],
   "source": [
    "predict=model.predict(test_sequences) \n",
    "classes_pred=np.argmax(predict,axis=1)"
   ]
  },
  {
   "cell_type": "code",
   "execution_count": 89,
   "metadata": {
    "colab": {
     "base_uri": "https://localhost:8080/",
     "height": 472
    },
    "id": "fLSisimnqi70",
    "outputId": "823d3d6c-40fd-4679-a540-b543f8293673"
   },
   "outputs": [
    {
     "data": {
      "image/png": "[encoded data removed]",
      "text/plain": [
       "<Figure size 576x576 with 2 Axes>"
      ]
     },
     "metadata": {
      "needs_background": "light"
     },
     "output_type": "display_data"
    }
   ],
   "source": [
    "show_confusion_matrix(test_labels,classes_pred,list(classes))"
   ]
  }
 ],
 "metadata": {
  "accelerator": "GPU",
  "colab": {
   "collapsed_sections": [],
   "name": "TweetEmotionDetectionRNN.ipynb",
   "provenance": []
  },
  "kernelspec": {
   "display_name": "Python 3 (ipykernel)",
   "language": "python",
   "name": "python3"
  },
  "language_info": {
   "codemirror_mode": {
    "name": "ipython",
    "version": 3
   },
   "file_extension": ".py",
   "mimetype": "text/x-python",
   "name": "python",
   "nbconvert_exporter": "python",
   "pygments_lexer": "ipython3",
   "version": "3.9.12"
  },
  "widgets": {
   "application/vnd.jupyter.widget-state+json": {
    "026972487bec46778d8f25b1e3e56411": {
     "model_module": "@jupyter-widgets/controls",
     "model_module_version": "1.5.0",
     "model_name": "ProgressStyleModel",
     "state": {
      "_model_module": "@jupyter-widgets/controls",
      "_model_module_version": "1.5.0",
      "_model_name": "ProgressStyleModel",
      "_view_count": null,
      "_view_module": "@jupyter-widgets/base",
      "_view_module_version": "1.2.0",
      "_view_name": "StyleView",
      "bar_color": null,
      "description_width": ""
     }
    },
    "02a351363aac478ca4c5721322f29752": {
     "model_module": "@jupyter-widgets/base",
     "model_module_version": "1.2.0",
     "model_name": "LayoutModel",
     "state": {
      "_model_module": "@jupyter-widgets/base",
      "_model_module_version": "1.2.0",
      "_model_name": "LayoutModel",
      "_view_count": null,
      "_view_module": "@jupyter-widgets/base",
      "_view_module_version": "1.2.0",
      "_view_name": "LayoutView",
      "align_content": null,
      "align_items": null,
      "align_self": null,
      "border": null,
      "bottom": null,
      "display": null,
      "flex": null,
      "flex_flow": null,
      "grid_area": null,
      "grid_auto_columns": null,
      "grid_auto_flow": null,
      "grid_auto_rows": null,
      "grid_column": null,
      "grid_gap": null,
      "grid_row": null,
      "grid_template_areas": null,
      "grid_template_columns": null,
      "grid_template_rows": null,
      "height": null,
      "justify_content": null,
      "justify_items": null,
      "left": null,
      "margin": null,
      "max_height": null,
      "max_width": null,
      "min_height": null,
      "min_width": null,
      "object_fit": null,
      "object_position": null,
      "order": null,
      "overflow": null,
      "overflow_x": null,
      "overflow_y": null,
      "padding": null,
      "right": null,
      "top": null,
      "visibility": null,
      "width": null
     }
    },
    "0a53104ec5ee42619c65fafc8fe0acfb": {
     "model_module": "@jupyter-widgets/base",
     "model_module_version": "1.2.0",
     "model_name": "LayoutModel",
     "state": {
      "_model_module": "@jupyter-widgets/base",
      "_model_module_version": "1.2.0",
      "_model_name": "LayoutModel",
      "_view_count": null,
      "_view_module": "@jupyter-widgets/base",
      "_view_module_version": "1.2.0",
      "_view_name": "LayoutView",
      "align_content": null,
      "align_items": null,
      "align_self": null,
      "border": null,
      "bottom": null,
      "display": null,
      "flex": null,
      "flex_flow": null,
      "grid_area": null,
      "grid_auto_columns": null,
      "grid_auto_flow": null,
      "grid_auto_rows": null,
      "grid_column": null,
      "grid_gap": null,
      "grid_row": null,
      "grid_template_areas": null,
      "grid_template_columns": null,
      "grid_template_rows": null,
      "height": null,
      "justify_content": null,
      "justify_items": null,
      "left": null,
      "margin": null,
      "max_height": null,
      "max_width": null,
      "min_height": null,
      "min_width": null,
      "object_fit": null,
      "object_position": null,
      "order": null,
      "overflow": null,
      "overflow_x": null,
      "overflow_y": null,
      "padding": null,
      "right": null,
      "top": null,
      "visibility": null,
      "width": null
     }
    },
    "0baaa6bddef24f7b9810195aef9f2689": {
     "model_module": "@jupyter-widgets/controls",
     "model_module_version": "1.5.0",
     "model_name": "HTMLModel",
     "state": {
      "_dom_classes": [],
      "_model_module": "@jupyter-widgets/controls",
      "_model_module_version": "1.5.0",
      "_model_name": "HTMLModel",
      "_view_count": null,
      "_view_module": "@jupyter-widgets/controls",
      "_view_module_version": "1.5.0",
      "_view_name": "HTMLView",
      "description": "",
      "description_tooltip": null,
      "layout": "IPY_MODEL_50f2efd73c544a269af05212d307408f",
      "placeholder": "​",
      "style": "IPY_MODEL_5dbcd87cd40a4d0abc9d707521e58813",
      "value": ""
     }
    },
    "11fe443f07914702984192523f9dcf4d": {
     "model_module": "@jupyter-widgets/controls",
     "model_module_version": "1.5.0",
     "model_name": "DescriptionStyleModel",
     "state": {
      "_model_module": "@jupyter-widgets/controls",
      "_model_module_version": "1.5.0",
      "_model_name": "DescriptionStyleModel",
      "_view_count": null,
      "_view_module": "@jupyter-widgets/base",
      "_view_module_version": "1.2.0",
      "_view_name": "StyleView",
      "description_width": ""
     }
    },
    "138c2e52fc304b4ea2d4e6d3afb68895": {
     "model_module": "@jupyter-widgets/base",
     "model_module_version": "1.2.0",
     "model_name": "LayoutModel",
     "state": {
      "_model_module": "@jupyter-widgets/base",
      "_model_module_version": "1.2.0",
      "_model_name": "LayoutModel",
      "_view_count": null,
      "_view_module": "@jupyter-widgets/base",
      "_view_module_version": "1.2.0",
      "_view_name": "LayoutView",
      "align_content": null,
      "align_items": null,
      "align_self": null,
      "border": null,
      "bottom": null,
      "display": null,
      "flex": null,
      "flex_flow": null,
      "grid_area": null,
      "grid_auto_columns": null,
      "grid_auto_flow": null,
      "grid_auto_rows": null,
      "grid_column": null,
      "grid_gap": null,
      "grid_row": null,
      "grid_template_areas": null,
      "grid_template_columns": null,
      "grid_template_rows": null,
      "height": null,
      "justify_content": null,
      "justify_items": null,
      "left": null,
      "margin": null,
      "max_height": null,
      "max_width": null,
      "min_height": null,
      "min_width": null,
      "object_fit": null,
      "object_position": null,
      "order": null,
      "overflow": null,
      "overflow_x": null,
      "overflow_y": null,
      "padding": null,
      "right": null,
      "top": null,
      "visibility": null,
      "width": "20px"
     }
    },
    "172fedc7ca6648d1ad1eccad377b7e2d": {
     "model_module": "@jupyter-widgets/controls",
     "model_module_version": "1.5.0",
     "model_name": "HTMLModel",
     "state": {
      "_dom_classes": [],
      "_model_module": "@jupyter-widgets/controls",
      "_model_module_version": "1.5.0",
      "_model_name": "HTMLModel",
      "_view_count": null,
      "_view_module": "@jupyter-widgets/controls",
      "_view_module_version": "1.5.0",
      "_view_name": "HTMLView",
      "description": "",
      "description_tooltip": null,
      "layout": "IPY_MODEL_7002bcc44c7a47ee9ca9954dbe4c84d6",
      "placeholder": "​",
      "style": "IPY_MODEL_8727dc999abc492c9cd501ad30ec0b94",
      "value": " 3.41k/3.41k [00:00&lt;00:00, 8.90kB/s]"
     }
    },
    "1d009665ef2f4111b331e4ea280b54dc": {
     "model_module": "@jupyter-widgets/base",
     "model_module_version": "1.2.0",
     "model_name": "LayoutModel",
     "state": {
      "_model_module": "@jupyter-widgets/base",
      "_model_module_version": "1.2.0",
      "_model_name": "LayoutModel",
      "_view_count": null,
      "_view_module": "@jupyter-widgets/base",
      "_view_module_version": "1.2.0",
      "_view_name": "LayoutView",
      "align_content": null,
      "align_items": null,
      "align_self": null,
      "border": null,
      "bottom": null,
      "display": null,
      "flex": null,
      "flex_flow": null,
      "grid_area": null,
      "grid_auto_columns": null,
      "grid_auto_flow": null,
      "grid_auto_rows": null,
      "grid_column": null,
      "grid_gap": null,
      "grid_row": null,
      "grid_template_areas": null,
      "grid_template_columns": null,
      "grid_template_rows": null,
      "height": null,
      "justify_content": null,
      "justify_items": null,
      "left": null,
      "margin": null,
      "max_height": null,
      "max_width": null,
      "min_height": null,
      "min_width": null,
      "object_fit": null,
      "object_position": null,
      "order": null,
      "overflow": null,
      "overflow_x": null,
      "overflow_y": null,
      "padding": null,
      "right": null,
      "top": null,
      "visibility": null,
      "width": null
     }
    },
    "2317ca054e074cf8bb13b0bc2aeb3c59": {
     "model_module": "@jupyter-widgets/controls",
     "model_module_version": "1.5.0",
     "model_name": "FloatProgressModel",
     "state": {
      "_dom_classes": [],
      "_model_module": "@jupyter-widgets/controls",
      "_model_module_version": "1.5.0",
      "_model_name": "FloatProgressModel",
      "_view_count": null,
      "_view_module": "@jupyter-widgets/controls",
      "_view_module_version": "1.5.0",
      "_view_name": "ProgressView",
      "bar_style": "info",
      "description": "",
      "description_tooltip": null,
      "layout": "IPY_MODEL_82eb76f986b74f35b92243e2cc7b8598",
      "max": 1,
      "min": 0,
      "orientation": "horizontal",
      "style": "IPY_MODEL_026972487bec46778d8f25b1e3e56411",
      "value": 1
     }
    },
    "244b7fe9fa0b4c89a04ba8a2b4fa68ed": {
     "model_module": "@jupyter-widgets/base",
     "model_module_version": "1.2.0",
     "model_name": "LayoutModel",
     "state": {
      "_model_module": "@jupyter-widgets/base",
      "_model_module_version": "1.2.0",
      "_model_name": "LayoutModel",
      "_view_count": null,
      "_view_module": "@jupyter-widgets/base",
      "_view_module_version": "1.2.0",
      "_view_name": "LayoutView",
      "align_content": null,
      "align_items": null,
      "align_self": null,
      "border": null,
      "bottom": null,
      "display": null,
      "flex": null,
      "flex_flow": null,
      "grid_area": null,
      "grid_auto_columns": null,
      "grid_auto_flow": null,
      "grid_auto_rows": null,
      "grid_column": null,
      "grid_gap": null,
      "grid_row": null,
      "grid_template_areas": null,
      "grid_template_columns": null,
      "grid_template_rows": null,
      "height": null,
      "justify_content": null,
      "justify_items": null,
      "left": null,
      "margin": null,
      "max_height": null,
      "max_width": null,
      "min_height": null,
      "min_width": null,
      "object_fit": null,
      "object_position": null,
      "order": null,
      "overflow": null,
      "overflow_x": null,
      "overflow_y": null,
      "padding": null,
      "right": null,
      "top": null,
      "visibility": null,
      "width": null
     }
    },
    "257df433434345a19a2d86bc90f101e7": {
     "model_module": "@jupyter-widgets/controls",
     "model_module_version": "1.5.0",
     "model_name": "FloatProgressModel",
     "state": {
      "_dom_classes": [],
      "_model_module": "@jupyter-widgets/controls",
      "_model_module_version": "1.5.0",
      "_model_name": "FloatProgressModel",
      "_view_count": null,
      "_view_module": "@jupyter-widgets/controls",
      "_view_module_version": "1.5.0",
      "_view_name": "ProgressView",
      "bar_style": "success",
      "description": "",
      "description_tooltip": null,
      "layout": "IPY_MODEL_f0c19c7674c84f68b1b5e5ee8d95d1e6",
      "max": 1658616,
      "min": 0,
      "orientation": "horizontal",
      "style": "IPY_MODEL_5456bf9e79c04e79a1b76b75b945f703",
      "value": 1658616
     }
    },
    "284ecfa9e7af4246b7648108a8b89d04": {
     "model_module": "@jupyter-widgets/controls",
     "model_module_version": "1.5.0",
     "model_name": "HTMLModel",
     "state": {
      "_dom_classes": [],
      "_model_module": "@jupyter-widgets/controls",
      "_model_module_version": "1.5.0",
      "_model_name": "HTMLModel",
      "_view_count": null,
      "_view_module": "@jupyter-widgets/controls",
      "_view_module_version": "1.5.0",
      "_view_name": "HTMLView",
      "description": "",
      "description_tooltip": null,
      "layout": "IPY_MODEL_56a0e488a5cc40bab03df543b2f8338a",
      "placeholder": "​",
      "style": "IPY_MODEL_d9149b10b25a4293950f6c022aea119c",
      "value": " 204k/204k [00:00&lt;00:00, 2.80MB/s]"
     }
    },
    "2c8f387e9e1a42049ade356b44dd16a5": {
     "model_module": "@jupyter-widgets/controls",
     "model_module_version": "1.5.0",
     "model_name": "ProgressStyleModel",
     "state": {
      "_model_module": "@jupyter-widgets/controls",
      "_model_module_version": "1.5.0",
      "_model_name": "ProgressStyleModel",
      "_view_count": null,
      "_view_module": "@jupyter-widgets/base",
      "_view_module_version": "1.2.0",
      "_view_name": "StyleView",
      "bar_color": null,
      "description_width": ""
     }
    },
    "3e7c24272de9448a9ce0778507d861c0": {
     "model_module": "@jupyter-widgets/controls",
     "model_module_version": "1.5.0",
     "model_name": "DescriptionStyleModel",
     "state": {
      "_model_module": "@jupyter-widgets/controls",
      "_model_module_version": "1.5.0",
      "_model_name": "DescriptionStyleModel",
      "_view_count": null,
      "_view_module": "@jupyter-widgets/base",
      "_view_module_version": "1.2.0",
      "_view_name": "StyleView",
      "description_width": ""
     }
    },
    "3e90c019c3094186af2a90d877052948": {
     "model_module": "@jupyter-widgets/controls",
     "model_module_version": "1.5.0",
     "model_name": "HTMLModel",
     "state": {
      "_dom_classes": [],
      "_model_module": "@jupyter-widgets/controls",
      "_model_module_version": "1.5.0",
      "_model_name": "HTMLModel",
      "_view_count": null,
      "_view_module": "@jupyter-widgets/controls",
      "_view_module_version": "1.5.0",
      "_view_name": "HTMLView",
      "description": "",
      "description_tooltip": null,
      "layout": "IPY_MODEL_94ad71379dde42c5bf3e3d4084d28331",
      "placeholder": "​",
      "style": "IPY_MODEL_c58510a5ad2e47f2a24264343ba7e20b",
      "value": "Downloading: 100%"
     }
    },
    "452421aaf98349e49a5b3376874078e0": {
     "model_module": "@jupyter-widgets/controls",
     "model_module_version": "1.5.0",
     "model_name": "HTMLModel",
     "state": {
      "_dom_classes": [],
      "_model_module": "@jupyter-widgets/controls",
      "_model_module_version": "1.5.0",
      "_model_name": "HTMLModel",
      "_view_count": null,
      "_view_module": "@jupyter-widgets/controls",
      "_view_module_version": "1.5.0",
      "_view_name": "HTMLView",
      "description": "",
      "description_tooltip": null,
      "layout": "IPY_MODEL_cca3ff185e18409bb1d9a471a1979e69",
      "placeholder": "​",
      "style": "IPY_MODEL_d0daab54939c43ffb1e3a9ac611808f2",
      "value": "Downloading: 100%"
     }
    },
    "469a792be4404715984aa48549231280": {
     "model_module": "@jupyter-widgets/base",
     "model_module_version": "1.2.0",
     "model_name": "LayoutModel",
     "state": {
      "_model_module": "@jupyter-widgets/base",
      "_model_module_version": "1.2.0",
      "_model_name": "LayoutModel",
      "_view_count": null,
      "_view_module": "@jupyter-widgets/base",
      "_view_module_version": "1.2.0",
      "_view_name": "LayoutView",
      "align_content": null,
      "align_items": null,
      "align_self": null,
      "border": null,
      "bottom": null,
      "display": null,
      "flex": null,
      "flex_flow": null,
      "grid_area": null,
      "grid_auto_columns": null,
      "grid_auto_flow": null,
      "grid_auto_rows": null,
      "grid_column": null,
      "grid_gap": null,
      "grid_row": null,
      "grid_template_areas": null,
      "grid_template_columns": null,
      "grid_template_rows": null,
      "height": null,
      "justify_content": null,
      "justify_items": null,
      "left": null,
      "margin": null,
      "max_height": null,
      "max_width": null,
      "min_height": null,
      "min_width": null,
      "object_fit": null,
      "object_position": null,
      "order": null,
      "overflow": null,
      "overflow_x": null,
      "overflow_y": null,
      "padding": null,
      "right": null,
      "top": null,
      "visibility": null,
      "width": null
     }
    },
    "47b853c5f8604418ae4ee7c2f177abf3": {
     "model_module": "@jupyter-widgets/base",
     "model_module_version": "1.2.0",
     "model_name": "LayoutModel",
     "state": {
      "_model_module": "@jupyter-widgets/base",
      "_model_module_version": "1.2.0",
      "_model_name": "LayoutModel",
      "_view_count": null,
      "_view_module": "@jupyter-widgets/base",
      "_view_module_version": "1.2.0",
      "_view_name": "LayoutView",
      "align_content": null,
      "align_items": null,
      "align_self": null,
      "border": null,
      "bottom": null,
      "display": null,
      "flex": null,
      "flex_flow": null,
      "grid_area": null,
      "grid_auto_columns": null,
      "grid_auto_flow": null,
      "grid_auto_rows": null,
      "grid_column": null,
      "grid_gap": null,
      "grid_row": null,
      "grid_template_areas": null,
      "grid_template_columns": null,
      "grid_template_rows": null,
      "height": null,
      "justify_content": null,
      "justify_items": null,
      "left": null,
      "margin": null,
      "max_height": null,
      "max_width": null,
      "min_height": null,
      "min_width": null,
      "object_fit": null,
      "object_position": null,
      "order": null,
      "overflow": null,
      "overflow_x": null,
      "overflow_y": null,
      "padding": null,
      "right": null,
      "top": null,
      "visibility": null,
      "width": null
     }
    },
    "47be8798d0844292910896e705fefe11": {
     "model_module": "@jupyter-widgets/controls",
     "model_module_version": "1.5.0",
     "model_name": "FloatProgressModel",
     "state": {
      "_dom_classes": [],
      "_model_module": "@jupyter-widgets/controls",
      "_model_module_version": "1.5.0",
      "_model_name": "FloatProgressModel",
      "_view_count": null,
      "_view_module": "@jupyter-widgets/controls",
      "_view_module_version": "1.5.0",
      "_view_name": "ProgressView",
      "bar_style": "info",
      "description": "",
      "description_tooltip": null,
      "layout": "IPY_MODEL_138c2e52fc304b4ea2d4e6d3afb68895",
      "max": 1,
      "min": 0,
      "orientation": "horizontal",
      "style": "IPY_MODEL_6f6f88d64e704e899e9d8c882ffda5ab",
      "value": 1
     }
    },
    "4d7e177983a5452e886ac63d1b3edbd2": {
     "model_module": "@jupyter-widgets/controls",
     "model_module_version": "1.5.0",
     "model_name": "DescriptionStyleModel",
     "state": {
      "_model_module": "@jupyter-widgets/controls",
      "_model_module_version": "1.5.0",
      "_model_name": "DescriptionStyleModel",
      "_view_count": null,
      "_view_module": "@jupyter-widgets/base",
      "_view_module_version": "1.2.0",
      "_view_name": "StyleView",
      "description_width": ""
     }
    },
    "4e9105895ee3414683dc4009e0b0bddf": {
     "model_module": "@jupyter-widgets/controls",
     "model_module_version": "1.5.0",
     "model_name": "ProgressStyleModel",
     "state": {
      "_model_module": "@jupyter-widgets/controls",
      "_model_module_version": "1.5.0",
      "_model_name": "ProgressStyleModel",
      "_view_count": null,
      "_view_module": "@jupyter-widgets/base",
      "_view_module_version": "1.2.0",
      "_view_name": "StyleView",
      "bar_color": null,
      "description_width": ""
     }
    },
    "50f2efd73c544a269af05212d307408f": {
     "model_module": "@jupyter-widgets/base",
     "model_module_version": "1.2.0",
     "model_name": "LayoutModel",
     "state": {
      "_model_module": "@jupyter-widgets/base",
      "_model_module_version": "1.2.0",
      "_model_name": "LayoutModel",
      "_view_count": null,
      "_view_module": "@jupyter-widgets/base",
      "_view_module_version": "1.2.0",
      "_view_name": "LayoutView",
      "align_content": null,
      "align_items": null,
      "align_self": null,
      "border": null,
      "bottom": null,
      "display": null,
      "flex": null,
      "flex_flow": null,
      "grid_area": null,
      "grid_auto_columns": null,
      "grid_auto_flow": null,
      "grid_auto_rows": null,
      "grid_column": null,
      "grid_gap": null,
      "grid_row": null,
      "grid_template_areas": null,
      "grid_template_columns": null,
      "grid_template_rows": null,
      "height": null,
      "justify_content": null,
      "justify_items": null,
      "left": null,
      "margin": null,
      "max_height": null,
      "max_width": null,
      "min_height": null,
      "min_width": null,
      "object_fit": null,
      "object_position": null,
      "order": null,
      "overflow": null,
      "overflow_x": null,
      "overflow_y": null,
      "padding": null,
      "right": null,
      "top": null,
      "visibility": null,
      "width": null
     }
    },
    "51383fe459554ef689c8c7bffc55d5a7": {
     "model_module": "@jupyter-widgets/controls",
     "model_module_version": "1.5.0",
     "model_name": "DescriptionStyleModel",
     "state": {
      "_model_module": "@jupyter-widgets/controls",
      "_model_module_version": "1.5.0",
      "_model_name": "DescriptionStyleModel",
      "_view_count": null,
      "_view_module": "@jupyter-widgets/base",
      "_view_module_version": "1.2.0",
      "_view_name": "StyleView",
      "description_width": ""
     }
    },
    "51a8a948663c439184367f0c65b02c2b": {
     "model_module": "@jupyter-widgets/controls",
     "model_module_version": "1.5.0",
     "model_name": "DescriptionStyleModel",
     "state": {
      "_model_module": "@jupyter-widgets/controls",
      "_model_module_version": "1.5.0",
      "_model_name": "DescriptionStyleModel",
      "_view_count": null,
      "_view_module": "@jupyter-widgets/base",
      "_view_module_version": "1.2.0",
      "_view_name": "StyleView",
      "description_width": ""
     }
    },
    "5456bf9e79c04e79a1b76b75b945f703": {
     "model_module": "@jupyter-widgets/controls",
     "model_module_version": "1.5.0",
     "model_name": "ProgressStyleModel",
     "state": {
      "_model_module": "@jupyter-widgets/controls",
      "_model_module_version": "1.5.0",
      "_model_name": "ProgressStyleModel",
      "_view_count": null,
      "_view_module": "@jupyter-widgets/base",
      "_view_module_version": "1.2.0",
      "_view_name": "StyleView",
      "bar_color": null,
      "description_width": ""
     }
    },
    "56a0e488a5cc40bab03df543b2f8338a": {
     "model_module": "@jupyter-widgets/base",
     "model_module_version": "1.2.0",
     "model_name": "LayoutModel",
     "state": {
      "_model_module": "@jupyter-widgets/base",
      "_model_module_version": "1.2.0",
      "_model_name": "LayoutModel",
      "_view_count": null,
      "_view_module": "@jupyter-widgets/base",
      "_view_module_version": "1.2.0",
      "_view_name": "LayoutView",
      "align_content": null,
      "align_items": null,
      "align_self": null,
      "border": null,
      "bottom": null,
      "display": null,
      "flex": null,
      "flex_flow": null,
      "grid_area": null,
      "grid_auto_columns": null,
      "grid_auto_flow": null,
      "grid_auto_rows": null,
      "grid_column": null,
      "grid_gap": null,
      "grid_row": null,
      "grid_template_areas": null,
      "grid_template_columns": null,
      "grid_template_rows": null,
      "height": null,
      "justify_content": null,
      "justify_items": null,
      "left": null,
      "margin": null,
      "max_height": null,
      "max_width": null,
      "min_height": null,
      "min_width": null,
      "object_fit": null,
      "object_position": null,
      "order": null,
      "overflow": null,
      "overflow_x": null,
      "overflow_y": null,
      "padding": null,
      "right": null,
      "top": null,
      "visibility": null,
      "width": null
     }
    },
    "5dbcd87cd40a4d0abc9d707521e58813": {
     "model_module": "@jupyter-widgets/controls",
     "model_module_version": "1.5.0",
     "model_name": "DescriptionStyleModel",
     "state": {
      "_model_module": "@jupyter-widgets/controls",
      "_model_module_version": "1.5.0",
      "_model_name": "DescriptionStyleModel",
      "_view_count": null,
      "_view_module": "@jupyter-widgets/base",
      "_view_module_version": "1.2.0",
      "_view_name": "StyleView",
      "description_width": ""
     }
    },
    "5f7fa5469a824b2ab1328f5d0acc36ad": {
     "model_module": "@jupyter-widgets/controls",
     "model_module_version": "1.5.0",
     "model_name": "HTMLModel",
     "state": {
      "_dom_classes": [],
      "_model_module": "@jupyter-widgets/controls",
      "_model_module_version": "1.5.0",
      "_model_name": "HTMLModel",
      "_view_count": null,
      "_view_module": "@jupyter-widgets/controls",
      "_view_module_version": "1.5.0",
      "_view_name": "HTMLView",
      "description": "",
      "description_tooltip": null,
      "layout": "IPY_MODEL_707fe70bf6484f369248823035ad31fb",
      "placeholder": "​",
      "style": "IPY_MODEL_e810966dbf2940619446af10b4cf2ba9",
      "value": "Downloading: 100%"
     }
    },
    "67c95cd18517403b88b7c74d98146fbe": {
     "model_module": "@jupyter-widgets/controls",
     "model_module_version": "1.5.0",
     "model_name": "HBoxModel",
     "state": {
      "_dom_classes": [],
      "_model_module": "@jupyter-widgets/controls",
      "_model_module_version": "1.5.0",
      "_model_name": "HBoxModel",
      "_view_count": null,
      "_view_module": "@jupyter-widgets/controls",
      "_view_module_version": "1.5.0",
      "_view_name": "HBoxView",
      "box_style": "",
      "children": [
       "IPY_MODEL_5f7fa5469a824b2ab1328f5d0acc36ad",
       "IPY_MODEL_89be45c1657c4f76842c2cb9ccb4dee2",
       "IPY_MODEL_ec31a20da16b4bcebbb015f46651a0da"
      ],
      "layout": "IPY_MODEL_ecaf51f157bc42b8bda51b5cae1584d1"
     }
    },
    "6bfd83e7fbe4413c94a5dea60ae141ac": {
     "model_module": "@jupyter-widgets/controls",
     "model_module_version": "1.5.0",
     "model_name": "FloatProgressModel",
     "state": {
      "_dom_classes": [],
      "_model_module": "@jupyter-widgets/controls",
      "_model_module_version": "1.5.0",
      "_model_name": "FloatProgressModel",
      "_view_count": null,
      "_view_module": "@jupyter-widgets/controls",
      "_view_module_version": "1.5.0",
      "_view_name": "ProgressView",
      "bar_style": "success",
      "description": "",
      "description_tooltip": null,
      "layout": "IPY_MODEL_47b853c5f8604418ae4ee7c2f177abf3",
      "max": 204240,
      "min": 0,
      "orientation": "horizontal",
      "style": "IPY_MODEL_4e9105895ee3414683dc4009e0b0bddf",
      "value": 204240
     }
    },
    "6edbb1832f3c48668dc63720bbf2d3fe": {
     "model_module": "@jupyter-widgets/controls",
     "model_module_version": "1.5.0",
     "model_name": "ProgressStyleModel",
     "state": {
      "_model_module": "@jupyter-widgets/controls",
      "_model_module_version": "1.5.0",
      "_model_name": "ProgressStyleModel",
      "_view_count": null,
      "_view_module": "@jupyter-widgets/base",
      "_view_module_version": "1.2.0",
      "_view_name": "StyleView",
      "bar_color": null,
      "description_width": ""
     }
    },
    "6ef91e5ec06c4eb28c041bf7fb446d89": {
     "model_module": "@jupyter-widgets/controls",
     "model_module_version": "1.5.0",
     "model_name": "HBoxModel",
     "state": {
      "_dom_classes": [],
      "_model_module": "@jupyter-widgets/controls",
      "_model_module_version": "1.5.0",
      "_model_name": "HBoxModel",
      "_view_count": null,
      "_view_module": "@jupyter-widgets/controls",
      "_view_module_version": "1.5.0",
      "_view_name": "HBoxView",
      "box_style": "",
      "children": [
       "IPY_MODEL_795a1238ea3847c0beab9aa9a12d3d31",
       "IPY_MODEL_6bfd83e7fbe4413c94a5dea60ae141ac",
       "IPY_MODEL_284ecfa9e7af4246b7648108a8b89d04"
      ],
      "layout": "IPY_MODEL_b42f4088669f4b949f9ac2c55bef2324"
     }
    },
    "6f6f88d64e704e899e9d8c882ffda5ab": {
     "model_module": "@jupyter-widgets/controls",
     "model_module_version": "1.5.0",
     "model_name": "ProgressStyleModel",
     "state": {
      "_model_module": "@jupyter-widgets/controls",
      "_model_module_version": "1.5.0",
      "_model_name": "ProgressStyleModel",
      "_view_count": null,
      "_view_module": "@jupyter-widgets/base",
      "_view_module_version": "1.2.0",
      "_view_name": "StyleView",
      "bar_color": null,
      "description_width": ""
     }
    },
    "7002bcc44c7a47ee9ca9954dbe4c84d6": {
     "model_module": "@jupyter-widgets/base",
     "model_module_version": "1.2.0",
     "model_name": "LayoutModel",
     "state": {
      "_model_module": "@jupyter-widgets/base",
      "_model_module_version": "1.2.0",
      "_model_name": "LayoutModel",
      "_view_count": null,
      "_view_module": "@jupyter-widgets/base",
      "_view_module_version": "1.2.0",
      "_view_name": "LayoutView",
      "align_content": null,
      "align_items": null,
      "align_self": null,
      "border": null,
      "bottom": null,
      "display": null,
      "flex": null,
      "flex_flow": null,
      "grid_area": null,
      "grid_auto_columns": null,
      "grid_auto_flow": null,
      "grid_auto_rows": null,
      "grid_column": null,
      "grid_gap": null,
      "grid_row": null,
      "grid_template_areas": null,
      "grid_template_columns": null,
      "grid_template_rows": null,
      "height": null,
      "justify_content": null,
      "justify_items": null,
      "left": null,
      "margin": null,
      "max_height": null,
      "max_width": null,
      "min_height": null,
      "min_width": null,
      "object_fit": null,
      "object_position": null,
      "order": null,
      "overflow": null,
      "overflow_x": null,
      "overflow_y": null,
      "padding": null,
      "right": null,
      "top": null,
      "visibility": null,
      "width": null
     }
    },
    "707fe70bf6484f369248823035ad31fb": {
     "model_module": "@jupyter-widgets/base",
     "model_module_version": "1.2.0",
     "model_name": "LayoutModel",
     "state": {
      "_model_module": "@jupyter-widgets/base",
      "_model_module_version": "1.2.0",
      "_model_name": "LayoutModel",
      "_view_count": null,
      "_view_module": "@jupyter-widgets/base",
      "_view_module_version": "1.2.0",
      "_view_name": "LayoutView",
      "align_content": null,
      "align_items": null,
      "align_self": null,
      "border": null,
      "bottom": null,
      "display": null,
      "flex": null,
      "flex_flow": null,
      "grid_area": null,
      "grid_auto_columns": null,
      "grid_auto_flow": null,
      "grid_auto_rows": null,
      "grid_column": null,
      "grid_gap": null,
      "grid_row": null,
      "grid_template_areas": null,
      "grid_template_columns": null,
      "grid_template_rows": null,
      "height": null,
      "justify_content": null,
      "justify_items": null,
      "left": null,
      "margin": null,
      "max_height": null,
      "max_width": null,
      "min_height": null,
      "min_width": null,
      "object_fit": null,
      "object_position": null,
      "order": null,
      "overflow": null,
      "overflow_x": null,
      "overflow_y": null,
      "padding": null,
      "right": null,
      "top": null,
      "visibility": null,
      "width": null
     }
    },
    "71798113f08447d08a5eccfd9287e908": {
     "model_module": "@jupyter-widgets/base",
     "model_module_version": "1.2.0",
     "model_name": "LayoutModel",
     "state": {
      "_model_module": "@jupyter-widgets/base",
      "_model_module_version": "1.2.0",
      "_model_name": "LayoutModel",
      "_view_count": null,
      "_view_module": "@jupyter-widgets/base",
      "_view_module_version": "1.2.0",
      "_view_name": "LayoutView",
      "align_content": null,
      "align_items": null,
      "align_self": null,
      "border": null,
      "bottom": null,
      "display": null,
      "flex": null,
      "flex_flow": null,
      "grid_area": null,
      "grid_auto_columns": null,
      "grid_auto_flow": null,
      "grid_auto_rows": null,
      "grid_column": null,
      "grid_gap": null,
      "grid_row": null,
      "grid_template_areas": null,
      "grid_template_columns": null,
      "grid_template_rows": null,
      "height": null,
      "justify_content": null,
      "justify_items": null,
      "left": null,
      "margin": null,
      "max_height": null,
      "max_width": null,
      "min_height": null,
      "min_width": null,
      "object_fit": null,
      "object_position": null,
      "order": null,
      "overflow": null,
      "overflow_x": null,
      "overflow_y": null,
      "padding": null,
      "right": null,
      "top": null,
      "visibility": null,
      "width": null
     }
    },
    "7666ecaf4ec6410697dc743f2e25672c": {
     "model_module": "@jupyter-widgets/controls",
     "model_module_version": "1.5.0",
     "model_name": "FloatProgressModel",
     "state": {
      "_dom_classes": [],
      "_model_module": "@jupyter-widgets/controls",
      "_model_module_version": "1.5.0",
      "_model_name": "FloatProgressModel",
      "_view_count": null,
      "_view_module": "@jupyter-widgets/controls",
      "_view_module_version": "1.5.0",
      "_view_name": "ProgressView",
      "bar_style": "success",
      "description": "",
      "description_tooltip": null,
      "layout": "IPY_MODEL_78dedc740b1e4728b799b76f680c981c",
      "max": 3406,
      "min": 0,
      "orientation": "horizontal",
      "style": "IPY_MODEL_ad27f7e8201c48fdb827e63d801357e7",
      "value": 3406
     }
    },
    "78dedc740b1e4728b799b76f680c981c": {
     "model_module": "@jupyter-widgets/base",
     "model_module_version": "1.2.0",
     "model_name": "LayoutModel",
     "state": {
      "_model_module": "@jupyter-widgets/base",
      "_model_module_version": "1.2.0",
      "_model_name": "LayoutModel",
      "_view_count": null,
      "_view_module": "@jupyter-widgets/base",
      "_view_module_version": "1.2.0",
      "_view_name": "LayoutView",
      "align_content": null,
      "align_items": null,
      "align_self": null,
      "border": null,
      "bottom": null,
      "display": null,
      "flex": null,
      "flex_flow": null,
      "grid_area": null,
      "grid_auto_columns": null,
      "grid_auto_flow": null,
      "grid_auto_rows": null,
      "grid_column": null,
      "grid_gap": null,
      "grid_row": null,
      "grid_template_areas": null,
      "grid_template_columns": null,
      "grid_template_rows": null,
      "height": null,
      "justify_content": null,
      "justify_items": null,
      "left": null,
      "margin": null,
      "max_height": null,
      "max_width": null,
      "min_height": null,
      "min_width": null,
      "object_fit": null,
      "object_position": null,
      "order": null,
      "overflow": null,
      "overflow_x": null,
      "overflow_y": null,
      "padding": null,
      "right": null,
      "top": null,
      "visibility": null,
      "width": null
     }
    },
    "795a1238ea3847c0beab9aa9a12d3d31": {
     "model_module": "@jupyter-widgets/controls",
     "model_module_version": "1.5.0",
     "model_name": "HTMLModel",
     "state": {
      "_dom_classes": [],
      "_model_module": "@jupyter-widgets/controls",
      "_model_module_version": "1.5.0",
      "_model_name": "HTMLModel",
      "_view_count": null,
      "_view_module": "@jupyter-widgets/controls",
      "_view_module_version": "1.5.0",
      "_view_name": "HTMLView",
      "description": "",
      "description_tooltip": null,
      "layout": "IPY_MODEL_b7f79d318b3443a48a3b852890ce378b",
      "placeholder": "​",
      "style": "IPY_MODEL_11fe443f07914702984192523f9dcf4d",
      "value": "Downloading: 100%"
     }
    },
    "7e2381cd5fb843028e28bac7f23b0dd6": {
     "model_module": "@jupyter-widgets/controls",
     "model_module_version": "1.5.0",
     "model_name": "HTMLModel",
     "state": {
      "_dom_classes": [],
      "_model_module": "@jupyter-widgets/controls",
      "_model_module_version": "1.5.0",
      "_model_name": "HTMLModel",
      "_view_count": null,
      "_view_module": "@jupyter-widgets/controls",
      "_view_module_version": "1.5.0",
      "_view_name": "HTMLView",
      "description": "",
      "description_tooltip": null,
      "layout": "IPY_MODEL_244b7fe9fa0b4c89a04ba8a2b4fa68ed",
      "placeholder": "​",
      "style": "IPY_MODEL_db098423eae14221ae4b84d0d0a259de",
      "value": "Downloading: 100%"
     }
    },
    "82eb76f986b74f35b92243e2cc7b8598": {
     "model_module": "@jupyter-widgets/base",
     "model_module_version": "1.2.0",
     "model_name": "LayoutModel",
     "state": {
      "_model_module": "@jupyter-widgets/base",
      "_model_module_version": "1.2.0",
      "_model_name": "LayoutModel",
      "_view_count": null,
      "_view_module": "@jupyter-widgets/base",
      "_view_module_version": "1.2.0",
      "_view_name": "LayoutView",
      "align_content": null,
      "align_items": null,
      "align_self": null,
      "border": null,
      "bottom": null,
      "display": null,
      "flex": null,
      "flex_flow": null,
      "grid_area": null,
      "grid_auto_columns": null,
      "grid_auto_flow": null,
      "grid_auto_rows": null,
      "grid_column": null,
      "grid_gap": null,
      "grid_row": null,
      "grid_template_areas": null,
      "grid_template_columns": null,
      "grid_template_rows": null,
      "height": null,
      "justify_content": null,
      "justify_items": null,
      "left": null,
      "margin": null,
      "max_height": null,
      "max_width": null,
      "min_height": null,
      "min_width": null,
      "object_fit": null,
      "object_position": null,
      "order": null,
      "overflow": null,
      "overflow_x": null,
      "overflow_y": null,
      "padding": null,
      "right": null,
      "top": null,
      "visibility": null,
      "width": "20px"
     }
    },
    "838315d3d6fa4d92a95bc272714b96e5": {
     "model_module": "@jupyter-widgets/base",
     "model_module_version": "1.2.0",
     "model_name": "LayoutModel",
     "state": {
      "_model_module": "@jupyter-widgets/base",
      "_model_module_version": "1.2.0",
      "_model_name": "LayoutModel",
      "_view_count": null,
      "_view_module": "@jupyter-widgets/base",
      "_view_module_version": "1.2.0",
      "_view_name": "LayoutView",
      "align_content": null,
      "align_items": null,
      "align_self": null,
      "border": null,
      "bottom": null,
      "display": null,
      "flex": null,
      "flex_flow": null,
      "grid_area": null,
      "grid_auto_columns": null,
      "grid_auto_flow": null,
      "grid_auto_rows": null,
      "grid_column": null,
      "grid_gap": null,
      "grid_row": null,
      "grid_template_areas": null,
      "grid_template_columns": null,
      "grid_template_rows": null,
      "height": null,
      "justify_content": null,
      "justify_items": null,
      "left": null,
      "margin": null,
      "max_height": null,
      "max_width": null,
      "min_height": null,
      "min_width": null,
      "object_fit": null,
      "object_position": null,
      "order": null,
      "overflow": null,
      "overflow_x": null,
      "overflow_y": null,
      "padding": null,
      "right": null,
      "top": null,
      "visibility": null,
      "width": "20px"
     }
    },
    "849c2b39725e4b329c15292484c7d48d": {
     "model_module": "@jupyter-widgets/base",
     "model_module_version": "1.2.0",
     "model_name": "LayoutModel",
     "state": {
      "_model_module": "@jupyter-widgets/base",
      "_model_module_version": "1.2.0",
      "_model_name": "LayoutModel",
      "_view_count": null,
      "_view_module": "@jupyter-widgets/base",
      "_view_module_version": "1.2.0",
      "_view_name": "LayoutView",
      "align_content": null,
      "align_items": null,
      "align_self": null,
      "border": null,
      "bottom": null,
      "display": null,
      "flex": null,
      "flex_flow": null,
      "grid_area": null,
      "grid_auto_columns": null,
      "grid_auto_flow": null,
      "grid_auto_rows": null,
      "grid_column": null,
      "grid_gap": null,
      "grid_row": null,
      "grid_template_areas": null,
      "grid_template_columns": null,
      "grid_template_rows": null,
      "height": null,
      "justify_content": null,
      "justify_items": null,
      "left": null,
      "margin": null,
      "max_height": null,
      "max_width": null,
      "min_height": null,
      "min_width": null,
      "object_fit": null,
      "object_position": null,
      "order": null,
      "overflow": null,
      "overflow_x": null,
      "overflow_y": null,
      "padding": null,
      "right": null,
      "top": null,
      "visibility": null,
      "width": null
     }
    },
    "8727dc999abc492c9cd501ad30ec0b94": {
     "model_module": "@jupyter-widgets/controls",
     "model_module_version": "1.5.0",
     "model_name": "DescriptionStyleModel",
     "state": {
      "_model_module": "@jupyter-widgets/controls",
      "_model_module_version": "1.5.0",
      "_model_name": "DescriptionStyleModel",
      "_view_count": null,
      "_view_module": "@jupyter-widgets/base",
      "_view_module_version": "1.2.0",
      "_view_name": "StyleView",
      "description_width": ""
     }
    },
    "89be45c1657c4f76842c2cb9ccb4dee2": {
     "model_module": "@jupyter-widgets/controls",
     "model_module_version": "1.5.0",
     "model_name": "FloatProgressModel",
     "state": {
      "_dom_classes": [],
      "_model_module": "@jupyter-widgets/controls",
      "_model_module_version": "1.5.0",
      "_model_name": "FloatProgressModel",
      "_view_count": null,
      "_view_module": "@jupyter-widgets/controls",
      "_view_module_version": "1.5.0",
      "_view_name": "ProgressView",
      "bar_style": "success",
      "description": "",
      "description_tooltip": null,
      "layout": "IPY_MODEL_e967c6fd4e0143f1aed9d7798f8ab5f6",
      "max": 206760,
      "min": 0,
      "orientation": "horizontal",
      "style": "IPY_MODEL_b3e82452571e460f88ca1645bd6a1d49",
      "value": 206760
     }
    },
    "8d304048b1d342c7950d6adbedc6c481": {
     "model_module": "@jupyter-widgets/controls",
     "model_module_version": "1.5.0",
     "model_name": "DescriptionStyleModel",
     "state": {
      "_model_module": "@jupyter-widgets/controls",
      "_model_module_version": "1.5.0",
      "_model_name": "DescriptionStyleModel",
      "_view_count": null,
      "_view_module": "@jupyter-widgets/base",
      "_view_module_version": "1.2.0",
      "_view_name": "StyleView",
      "description_width": ""
     }
    },
    "9395e2bda5414481ac71a144bb6d2e40": {
     "model_module": "@jupyter-widgets/base",
     "model_module_version": "1.2.0",
     "model_name": "LayoutModel",
     "state": {
      "_model_module": "@jupyter-widgets/base",
      "_model_module_version": "1.2.0",
      "_model_name": "LayoutModel",
      "_view_count": null,
      "_view_module": "@jupyter-widgets/base",
      "_view_module_version": "1.2.0",
      "_view_name": "LayoutView",
      "align_content": null,
      "align_items": null,
      "align_self": null,
      "border": null,
      "bottom": null,
      "display": null,
      "flex": null,
      "flex_flow": null,
      "grid_area": null,
      "grid_auto_columns": null,
      "grid_auto_flow": null,
      "grid_auto_rows": null,
      "grid_column": null,
      "grid_gap": null,
      "grid_row": null,
      "grid_template_areas": null,
      "grid_template_columns": null,
      "grid_template_rows": null,
      "height": null,
      "justify_content": null,
      "justify_items": null,
      "left": null,
      "margin": null,
      "max_height": null,
      "max_width": null,
      "min_height": null,
      "min_width": null,
      "object_fit": null,
      "object_position": null,
      "order": null,
      "overflow": null,
      "overflow_x": null,
      "overflow_y": null,
      "padding": null,
      "right": null,
      "top": null,
      "visibility": null,
      "width": null
     }
    },
    "942340ab507d4d8790abd35b6b03c3ac": {
     "model_module": "@jupyter-widgets/controls",
     "model_module_version": "1.5.0",
     "model_name": "HTMLModel",
     "state": {
      "_dom_classes": [],
      "_model_module": "@jupyter-widgets/controls",
      "_model_module_version": "1.5.0",
      "_model_name": "HTMLModel",
      "_view_count": null,
      "_view_module": "@jupyter-widgets/controls",
      "_view_module_version": "1.5.0",
      "_view_name": "HTMLView",
      "description": "",
      "description_tooltip": null,
      "layout": "IPY_MODEL_9395e2bda5414481ac71a144bb6d2e40",
      "placeholder": "​",
      "style": "IPY_MODEL_8d304048b1d342c7950d6adbedc6c481",
      "value": " 0/0 [00:00&lt;?, ? examples/s]"
     }
    },
    "94ad71379dde42c5bf3e3d4084d28331": {
     "model_module": "@jupyter-widgets/base",
     "model_module_version": "1.2.0",
     "model_name": "LayoutModel",
     "state": {
      "_model_module": "@jupyter-widgets/base",
      "_model_module_version": "1.2.0",
      "_model_name": "LayoutModel",
      "_view_count": null,
      "_view_module": "@jupyter-widgets/base",
      "_view_module_version": "1.2.0",
      "_view_name": "LayoutView",
      "align_content": null,
      "align_items": null,
      "align_self": null,
      "border": null,
      "bottom": null,
      "display": null,
      "flex": null,
      "flex_flow": null,
      "grid_area": null,
      "grid_auto_columns": null,
      "grid_auto_flow": null,
      "grid_auto_rows": null,
      "grid_column": null,
      "grid_gap": null,
      "grid_row": null,
      "grid_template_areas": null,
      "grid_template_columns": null,
      "grid_template_rows": null,
      "height": null,
      "justify_content": null,
      "justify_items": null,
      "left": null,
      "margin": null,
      "max_height": null,
      "max_width": null,
      "min_height": null,
      "min_width": null,
      "object_fit": null,
      "object_position": null,
      "order": null,
      "overflow": null,
      "overflow_x": null,
      "overflow_y": null,
      "padding": null,
      "right": null,
      "top": null,
      "visibility": null,
      "width": null
     }
    },
    "95a2e9b347e44aa389bdc02d2c3ec169": {
     "model_module": "@jupyter-widgets/controls",
     "model_module_version": "1.5.0",
     "model_name": "HTMLModel",
     "state": {
      "_dom_classes": [],
      "_model_module": "@jupyter-widgets/controls",
      "_model_module_version": "1.5.0",
      "_model_name": "HTMLModel",
      "_view_count": null,
      "_view_module": "@jupyter-widgets/controls",
      "_view_module_version": "1.5.0",
      "_view_name": "HTMLView",
      "description": "",
      "description_tooltip": null,
      "layout": "IPY_MODEL_ed8cf62963894de99b2420e395002739",
      "placeholder": "​",
      "style": "IPY_MODEL_4d7e177983a5452e886ac63d1b3edbd2",
      "value": ""
     }
    },
    "99142e5e6a0f4fdd8feed72b9e8124fa": {
     "model_module": "@jupyter-widgets/controls",
     "model_module_version": "1.5.0",
     "model_name": "DescriptionStyleModel",
     "state": {
      "_model_module": "@jupyter-widgets/controls",
      "_model_module_version": "1.5.0",
      "_model_name": "DescriptionStyleModel",
      "_view_count": null,
      "_view_module": "@jupyter-widgets/base",
      "_view_module_version": "1.2.0",
      "_view_name": "StyleView",
      "description_width": ""
     }
    },
    "9b411a141d744bbe823fac2007b507ef": {
     "model_module": "@jupyter-widgets/base",
     "model_module_version": "1.2.0",
     "model_name": "LayoutModel",
     "state": {
      "_model_module": "@jupyter-widgets/base",
      "_model_module_version": "1.2.0",
      "_model_name": "LayoutModel",
      "_view_count": null,
      "_view_module": "@jupyter-widgets/base",
      "_view_module_version": "1.2.0",
      "_view_name": "LayoutView",
      "align_content": null,
      "align_items": null,
      "align_self": null,
      "border": null,
      "bottom": null,
      "display": null,
      "flex": null,
      "flex_flow": null,
      "grid_area": null,
      "grid_auto_columns": null,
      "grid_auto_flow": null,
      "grid_auto_rows": null,
      "grid_column": null,
      "grid_gap": null,
      "grid_row": null,
      "grid_template_areas": null,
      "grid_template_columns": null,
      "grid_template_rows": null,
      "height": null,
      "justify_content": null,
      "justify_items": null,
      "left": null,
      "margin": null,
      "max_height": null,
      "max_width": null,
      "min_height": null,
      "min_width": null,
      "object_fit": null,
      "object_position": null,
      "order": null,
      "overflow": null,
      "overflow_x": null,
      "overflow_y": null,
      "padding": null,
      "right": null,
      "top": null,
      "visibility": null,
      "width": null
     }
    },
    "a07fa1479f1f4bc3a585ef2f43bffe8b": {
     "model_module": "@jupyter-widgets/controls",
     "model_module_version": "1.5.0",
     "model_name": "HTMLModel",
     "state": {
      "_dom_classes": [],
      "_model_module": "@jupyter-widgets/controls",
      "_model_module_version": "1.5.0",
      "_model_name": "HTMLModel",
      "_view_count": null,
      "_view_module": "@jupyter-widgets/controls",
      "_view_module_version": "1.5.0",
      "_view_name": "HTMLView",
      "description": "",
      "description_tooltip": null,
      "layout": "IPY_MODEL_d09f830356e546d0a3c8be6ef957b7a6",
      "placeholder": "​",
      "style": "IPY_MODEL_51a8a948663c439184367f0c65b02c2b",
      "value": " 0/0 [00:00&lt;?, ? examples/s]"
     }
    },
    "a35c496f5b114ae3b30006496d811104": {
     "model_module": "@jupyter-widgets/controls",
     "model_module_version": "1.5.0",
     "model_name": "HTMLModel",
     "state": {
      "_dom_classes": [],
      "_model_module": "@jupyter-widgets/controls",
      "_model_module_version": "1.5.0",
      "_model_name": "HTMLModel",
      "_view_count": null,
      "_view_module": "@jupyter-widgets/controls",
      "_view_module_version": "1.5.0",
      "_view_name": "HTMLView",
      "description": "",
      "description_tooltip": null,
      "layout": "IPY_MODEL_0a53104ec5ee42619c65fafc8fe0acfb",
      "placeholder": "​",
      "style": "IPY_MODEL_f17dd0ca5050459eb15f91f47a574dcc",
      "value": " 6.01k/6.01k [00:00&lt;00:00, 96.4kB/s]"
     }
    },
    "a3ad99215a1f4cf68cf638a6ed80e16e": {
     "model_module": "@jupyter-widgets/controls",
     "model_module_version": "1.5.0",
     "model_name": "DescriptionStyleModel",
     "state": {
      "_model_module": "@jupyter-widgets/controls",
      "_model_module_version": "1.5.0",
      "_model_name": "DescriptionStyleModel",
      "_view_count": null,
      "_view_module": "@jupyter-widgets/base",
      "_view_module_version": "1.2.0",
      "_view_name": "StyleView",
      "description_width": ""
     }
    },
    "a4866f226fc1405fad6162af751f6313": {
     "model_module": "@jupyter-widgets/controls",
     "model_module_version": "1.5.0",
     "model_name": "HBoxModel",
     "state": {
      "_dom_classes": [],
      "_model_module": "@jupyter-widgets/controls",
      "_model_module_version": "1.5.0",
      "_model_name": "HBoxModel",
      "_view_count": null,
      "_view_module": "@jupyter-widgets/controls",
      "_view_module_version": "1.5.0",
      "_view_name": "HBoxView",
      "box_style": "",
      "children": [
       "IPY_MODEL_b620a45763f347cf946a3b6148422d23",
       "IPY_MODEL_2317ca054e074cf8bb13b0bc2aeb3c59",
       "IPY_MODEL_e6e159237e4b41bda980bcfd4b1012b5"
      ],
      "layout": "IPY_MODEL_e4b661f7a67d441ca8a448203ba9435b"
     }
    },
    "ad14a79c75634c15b0d12c876073ac1e": {
     "model_module": "@jupyter-widgets/controls",
     "model_module_version": "1.5.0",
     "model_name": "HBoxModel",
     "state": {
      "_dom_classes": [],
      "_model_module": "@jupyter-widgets/controls",
      "_model_module_version": "1.5.0",
      "_model_name": "HBoxModel",
      "_view_count": null,
      "_view_module": "@jupyter-widgets/controls",
      "_view_module_version": "1.5.0",
      "_view_name": "HBoxView",
      "box_style": "",
      "children": [
       "IPY_MODEL_452421aaf98349e49a5b3376874078e0",
       "IPY_MODEL_c81f128c4197417cbf443a61f0fface4",
       "IPY_MODEL_a35c496f5b114ae3b30006496d811104"
      ],
      "layout": "IPY_MODEL_71798113f08447d08a5eccfd9287e908"
     }
    },
    "ad27f7e8201c48fdb827e63d801357e7": {
     "model_module": "@jupyter-widgets/controls",
     "model_module_version": "1.5.0",
     "model_name": "ProgressStyleModel",
     "state": {
      "_model_module": "@jupyter-widgets/controls",
      "_model_module_version": "1.5.0",
      "_model_name": "ProgressStyleModel",
      "_view_count": null,
      "_view_module": "@jupyter-widgets/base",
      "_view_module_version": "1.2.0",
      "_view_name": "StyleView",
      "bar_color": null,
      "description_width": ""
     }
    },
    "b198c44b0b2c40fbae39a6ce38dd30a6": {
     "model_module": "@jupyter-widgets/controls",
     "model_module_version": "1.5.0",
     "model_name": "HBoxModel",
     "state": {
      "_dom_classes": [],
      "_model_module": "@jupyter-widgets/controls",
      "_model_module_version": "1.5.0",
      "_model_name": "HBoxModel",
      "_view_count": null,
      "_view_module": "@jupyter-widgets/controls",
      "_view_module_version": "1.5.0",
      "_view_name": "HBoxView",
      "box_style": "",
      "children": [
       "IPY_MODEL_0baaa6bddef24f7b9810195aef9f2689",
       "IPY_MODEL_fabf5a6086ba402ab98d97321c288f16",
       "IPY_MODEL_a07fa1479f1f4bc3a585ef2f43bffe8b"
      ],
      "layout": "IPY_MODEL_f8496495cc9e4c06be42e9ac8d80ce22"
     }
    },
    "b3e82452571e460f88ca1645bd6a1d49": {
     "model_module": "@jupyter-widgets/controls",
     "model_module_version": "1.5.0",
     "model_name": "ProgressStyleModel",
     "state": {
      "_model_module": "@jupyter-widgets/controls",
      "_model_module_version": "1.5.0",
      "_model_name": "ProgressStyleModel",
      "_view_count": null,
      "_view_module": "@jupyter-widgets/base",
      "_view_module_version": "1.2.0",
      "_view_name": "StyleView",
      "bar_color": null,
      "description_width": ""
     }
    },
    "b42f4088669f4b949f9ac2c55bef2324": {
     "model_module": "@jupyter-widgets/base",
     "model_module_version": "1.2.0",
     "model_name": "LayoutModel",
     "state": {
      "_model_module": "@jupyter-widgets/base",
      "_model_module_version": "1.2.0",
      "_model_name": "LayoutModel",
      "_view_count": null,
      "_view_module": "@jupyter-widgets/base",
      "_view_module_version": "1.2.0",
      "_view_name": "LayoutView",
      "align_content": null,
      "align_items": null,
      "align_self": null,
      "border": null,
      "bottom": null,
      "display": null,
      "flex": null,
      "flex_flow": null,
      "grid_area": null,
      "grid_auto_columns": null,
      "grid_auto_flow": null,
      "grid_auto_rows": null,
      "grid_column": null,
      "grid_gap": null,
      "grid_row": null,
      "grid_template_areas": null,
      "grid_template_columns": null,
      "grid_template_rows": null,
      "height": null,
      "justify_content": null,
      "justify_items": null,
      "left": null,
      "margin": null,
      "max_height": null,
      "max_width": null,
      "min_height": null,
      "min_width": null,
      "object_fit": null,
      "object_position": null,
      "order": null,
      "overflow": null,
      "overflow_x": null,
      "overflow_y": null,
      "padding": null,
      "right": null,
      "top": null,
      "visibility": null,
      "width": null
     }
    },
    "b620a45763f347cf946a3b6148422d23": {
     "model_module": "@jupyter-widgets/controls",
     "model_module_version": "1.5.0",
     "model_name": "HTMLModel",
     "state": {
      "_dom_classes": [],
      "_model_module": "@jupyter-widgets/controls",
      "_model_module_version": "1.5.0",
      "_model_name": "HTMLModel",
      "_view_count": null,
      "_view_module": "@jupyter-widgets/controls",
      "_view_module_version": "1.5.0",
      "_view_name": "HTMLView",
      "description": "",
      "description_tooltip": null,
      "layout": "IPY_MODEL_fb753bdec9db4ef89afcffe2a82ecbc1",
      "placeholder": "​",
      "style": "IPY_MODEL_3e7c24272de9448a9ce0778507d861c0",
      "value": ""
     }
    },
    "b7f79d318b3443a48a3b852890ce378b": {
     "model_module": "@jupyter-widgets/base",
     "model_module_version": "1.2.0",
     "model_name": "LayoutModel",
     "state": {
      "_model_module": "@jupyter-widgets/base",
      "_model_module_version": "1.2.0",
      "_model_name": "LayoutModel",
      "_view_count": null,
      "_view_module": "@jupyter-widgets/base",
      "_view_module_version": "1.2.0",
      "_view_name": "LayoutView",
      "align_content": null,
      "align_items": null,
      "align_self": null,
      "border": null,
      "bottom": null,
      "display": null,
      "flex": null,
      "flex_flow": null,
      "grid_area": null,
      "grid_auto_columns": null,
      "grid_auto_flow": null,
      "grid_auto_rows": null,
      "grid_column": null,
      "grid_gap": null,
      "grid_row": null,
      "grid_template_areas": null,
      "grid_template_columns": null,
      "grid_template_rows": null,
      "height": null,
      "justify_content": null,
      "justify_items": null,
      "left": null,
      "margin": null,
      "max_height": null,
      "max_width": null,
      "min_height": null,
      "min_width": null,
      "object_fit": null,
      "object_position": null,
      "order": null,
      "overflow": null,
      "overflow_x": null,
      "overflow_y": null,
      "padding": null,
      "right": null,
      "top": null,
      "visibility": null,
      "width": null
     }
    },
    "c1383f452ca4482396d90afb6ae4c742": {
     "model_module": "@jupyter-widgets/base",
     "model_module_version": "1.2.0",
     "model_name": "LayoutModel",
     "state": {
      "_model_module": "@jupyter-widgets/base",
      "_model_module_version": "1.2.0",
      "_model_name": "LayoutModel",
      "_view_count": null,
      "_view_module": "@jupyter-widgets/base",
      "_view_module_version": "1.2.0",
      "_view_name": "LayoutView",
      "align_content": null,
      "align_items": null,
      "align_self": null,
      "border": null,
      "bottom": null,
      "display": null,
      "flex": null,
      "flex_flow": null,
      "grid_area": null,
      "grid_auto_columns": null,
      "grid_auto_flow": null,
      "grid_auto_rows": null,
      "grid_column": null,
      "grid_gap": null,
      "grid_row": null,
      "grid_template_areas": null,
      "grid_template_columns": null,
      "grid_template_rows": null,
      "height": null,
      "justify_content": null,
      "justify_items": null,
      "left": null,
      "margin": null,
      "max_height": null,
      "max_width": null,
      "min_height": null,
      "min_width": null,
      "object_fit": null,
      "object_position": null,
      "order": null,
      "overflow": null,
      "overflow_x": null,
      "overflow_y": null,
      "padding": null,
      "right": null,
      "top": null,
      "visibility": null,
      "width": null
     }
    },
    "c58510a5ad2e47f2a24264343ba7e20b": {
     "model_module": "@jupyter-widgets/controls",
     "model_module_version": "1.5.0",
     "model_name": "DescriptionStyleModel",
     "state": {
      "_model_module": "@jupyter-widgets/controls",
      "_model_module_version": "1.5.0",
      "_model_name": "DescriptionStyleModel",
      "_view_count": null,
      "_view_module": "@jupyter-widgets/base",
      "_view_module_version": "1.2.0",
      "_view_name": "StyleView",
      "description_width": ""
     }
    },
    "c81f128c4197417cbf443a61f0fface4": {
     "model_module": "@jupyter-widgets/controls",
     "model_module_version": "1.5.0",
     "model_name": "FloatProgressModel",
     "state": {
      "_dom_classes": [],
      "_model_module": "@jupyter-widgets/controls",
      "_model_module_version": "1.5.0",
      "_model_name": "FloatProgressModel",
      "_view_count": null,
      "_view_module": "@jupyter-widgets/controls",
      "_view_module_version": "1.5.0",
      "_view_name": "ProgressView",
      "bar_style": "success",
      "description": "",
      "description_tooltip": null,
      "layout": "IPY_MODEL_e71d75214272480c9281d4a66915c7c2",
      "max": 6011,
      "min": 0,
      "orientation": "horizontal",
      "style": "IPY_MODEL_6edbb1832f3c48668dc63720bbf2d3fe",
      "value": 6011
     }
    },
    "cca3ff185e18409bb1d9a471a1979e69": {
     "model_module": "@jupyter-widgets/base",
     "model_module_version": "1.2.0",
     "model_name": "LayoutModel",
     "state": {
      "_model_module": "@jupyter-widgets/base",
      "_model_module_version": "1.2.0",
      "_model_name": "LayoutModel",
      "_view_count": null,
      "_view_module": "@jupyter-widgets/base",
      "_view_module_version": "1.2.0",
      "_view_name": "LayoutView",
      "align_content": null,
      "align_items": null,
      "align_self": null,
      "border": null,
      "bottom": null,
      "display": null,
      "flex": null,
      "flex_flow": null,
      "grid_area": null,
      "grid_auto_columns": null,
      "grid_auto_flow": null,
      "grid_auto_rows": null,
      "grid_column": null,
      "grid_gap": null,
      "grid_row": null,
      "grid_template_areas": null,
      "grid_template_columns": null,
      "grid_template_rows": null,
      "height": null,
      "justify_content": null,
      "justify_items": null,
      "left": null,
      "margin": null,
      "max_height": null,
      "max_width": null,
      "min_height": null,
      "min_width": null,
      "object_fit": null,
      "object_position": null,
      "order": null,
      "overflow": null,
      "overflow_x": null,
      "overflow_y": null,
      "padding": null,
      "right": null,
      "top": null,
      "visibility": null,
      "width": null
     }
    },
    "cd3e11e96b77422093b540336e63e4da": {
     "model_module": "@jupyter-widgets/controls",
     "model_module_version": "1.5.0",
     "model_name": "HBoxModel",
     "state": {
      "_dom_classes": [],
      "_model_module": "@jupyter-widgets/controls",
      "_model_module_version": "1.5.0",
      "_model_name": "HBoxModel",
      "_view_count": null,
      "_view_module": "@jupyter-widgets/controls",
      "_view_module_version": "1.5.0",
      "_view_name": "HBoxView",
      "box_style": "",
      "children": [
       "IPY_MODEL_7e2381cd5fb843028e28bac7f23b0dd6",
       "IPY_MODEL_7666ecaf4ec6410697dc743f2e25672c",
       "IPY_MODEL_172fedc7ca6648d1ad1eccad377b7e2d"
      ],
      "layout": "IPY_MODEL_469a792be4404715984aa48549231280"
     }
    },
    "cf4b4467237c483ead461ef9f52eda58": {
     "model_module": "@jupyter-widgets/controls",
     "model_module_version": "1.5.0",
     "model_name": "HTMLModel",
     "state": {
      "_dom_classes": [],
      "_model_module": "@jupyter-widgets/controls",
      "_model_module_version": "1.5.0",
      "_model_name": "HTMLModel",
      "_view_count": null,
      "_view_module": "@jupyter-widgets/controls",
      "_view_module_version": "1.5.0",
      "_view_name": "HTMLView",
      "description": "",
      "description_tooltip": null,
      "layout": "IPY_MODEL_1d009665ef2f4111b331e4ea280b54dc",
      "placeholder": "​",
      "style": "IPY_MODEL_a3ad99215a1f4cf68cf638a6ed80e16e",
      "value": " 1.66M/1.66M [00:00&lt;00:00, 2.47MB/s]"
     }
    },
    "d09f830356e546d0a3c8be6ef957b7a6": {
     "model_module": "@jupyter-widgets/base",
     "model_module_version": "1.2.0",
     "model_name": "LayoutModel",
     "state": {
      "_model_module": "@jupyter-widgets/base",
      "_model_module_version": "1.2.0",
      "_model_name": "LayoutModel",
      "_view_count": null,
      "_view_module": "@jupyter-widgets/base",
      "_view_module_version": "1.2.0",
      "_view_name": "LayoutView",
      "align_content": null,
      "align_items": null,
      "align_self": null,
      "border": null,
      "bottom": null,
      "display": null,
      "flex": null,
      "flex_flow": null,
      "grid_area": null,
      "grid_auto_columns": null,
      "grid_auto_flow": null,
      "grid_auto_rows": null,
      "grid_column": null,
      "grid_gap": null,
      "grid_row": null,
      "grid_template_areas": null,
      "grid_template_columns": null,
      "grid_template_rows": null,
      "height": null,
      "justify_content": null,
      "justify_items": null,
      "left": null,
      "margin": null,
      "max_height": null,
      "max_width": null,
      "min_height": null,
      "min_width": null,
      "object_fit": null,
      "object_position": null,
      "order": null,
      "overflow": null,
      "overflow_x": null,
      "overflow_y": null,
      "padding": null,
      "right": null,
      "top": null,
      "visibility": null,
      "width": null
     }
    },
    "d0daab54939c43ffb1e3a9ac611808f2": {
     "model_module": "@jupyter-widgets/controls",
     "model_module_version": "1.5.0",
     "model_name": "DescriptionStyleModel",
     "state": {
      "_model_module": "@jupyter-widgets/controls",
      "_model_module_version": "1.5.0",
      "_model_name": "DescriptionStyleModel",
      "_view_count": null,
      "_view_module": "@jupyter-widgets/base",
      "_view_module_version": "1.2.0",
      "_view_name": "StyleView",
      "description_width": ""
     }
    },
    "d3f15f743edf470e9f27006c945bc17b": {
     "model_module": "@jupyter-widgets/controls",
     "model_module_version": "1.5.0",
     "model_name": "HBoxModel",
     "state": {
      "_dom_classes": [],
      "_model_module": "@jupyter-widgets/controls",
      "_model_module_version": "1.5.0",
      "_model_name": "HBoxModel",
      "_view_count": null,
      "_view_module": "@jupyter-widgets/controls",
      "_view_module_version": "1.5.0",
      "_view_name": "HBoxView",
      "box_style": "",
      "children": [
       "IPY_MODEL_95a2e9b347e44aa389bdc02d2c3ec169",
       "IPY_MODEL_47be8798d0844292910896e705fefe11",
       "IPY_MODEL_942340ab507d4d8790abd35b6b03c3ac"
      ],
      "layout": "IPY_MODEL_9b411a141d744bbe823fac2007b507ef"
     }
    },
    "d9149b10b25a4293950f6c022aea119c": {
     "model_module": "@jupyter-widgets/controls",
     "model_module_version": "1.5.0",
     "model_name": "DescriptionStyleModel",
     "state": {
      "_model_module": "@jupyter-widgets/controls",
      "_model_module_version": "1.5.0",
      "_model_name": "DescriptionStyleModel",
      "_view_count": null,
      "_view_module": "@jupyter-widgets/base",
      "_view_module_version": "1.2.0",
      "_view_name": "StyleView",
      "description_width": ""
     }
    },
    "db098423eae14221ae4b84d0d0a259de": {
     "model_module": "@jupyter-widgets/controls",
     "model_module_version": "1.5.0",
     "model_name": "DescriptionStyleModel",
     "state": {
      "_model_module": "@jupyter-widgets/controls",
      "_model_module_version": "1.5.0",
      "_model_name": "DescriptionStyleModel",
      "_view_count": null,
      "_view_module": "@jupyter-widgets/base",
      "_view_module_version": "1.2.0",
      "_view_name": "StyleView",
      "description_width": ""
     }
    },
    "e05f7daa894e46d28dd1ee07f8666097": {
     "model_module": "@jupyter-widgets/controls",
     "model_module_version": "1.5.0",
     "model_name": "HBoxModel",
     "state": {
      "_dom_classes": [],
      "_model_module": "@jupyter-widgets/controls",
      "_model_module_version": "1.5.0",
      "_model_name": "HBoxModel",
      "_view_count": null,
      "_view_module": "@jupyter-widgets/controls",
      "_view_module_version": "1.5.0",
      "_view_name": "HBoxView",
      "box_style": "",
      "children": [
       "IPY_MODEL_3e90c019c3094186af2a90d877052948",
       "IPY_MODEL_257df433434345a19a2d86bc90f101e7",
       "IPY_MODEL_cf4b4467237c483ead461ef9f52eda58"
      ],
      "layout": "IPY_MODEL_c1383f452ca4482396d90afb6ae4c742"
     }
    },
    "e4b661f7a67d441ca8a448203ba9435b": {
     "model_module": "@jupyter-widgets/base",
     "model_module_version": "1.2.0",
     "model_name": "LayoutModel",
     "state": {
      "_model_module": "@jupyter-widgets/base",
      "_model_module_version": "1.2.0",
      "_model_name": "LayoutModel",
      "_view_count": null,
      "_view_module": "@jupyter-widgets/base",
      "_view_module_version": "1.2.0",
      "_view_name": "LayoutView",
      "align_content": null,
      "align_items": null,
      "align_self": null,
      "border": null,
      "bottom": null,
      "display": null,
      "flex": null,
      "flex_flow": null,
      "grid_area": null,
      "grid_auto_columns": null,
      "grid_auto_flow": null,
      "grid_auto_rows": null,
      "grid_column": null,
      "grid_gap": null,
      "grid_row": null,
      "grid_template_areas": null,
      "grid_template_columns": null,
      "grid_template_rows": null,
      "height": null,
      "justify_content": null,
      "justify_items": null,
      "left": null,
      "margin": null,
      "max_height": null,
      "max_width": null,
      "min_height": null,
      "min_width": null,
      "object_fit": null,
      "object_position": null,
      "order": null,
      "overflow": null,
      "overflow_x": null,
      "overflow_y": null,
      "padding": null,
      "right": null,
      "top": null,
      "visibility": null,
      "width": null
     }
    },
    "e6e159237e4b41bda980bcfd4b1012b5": {
     "model_module": "@jupyter-widgets/controls",
     "model_module_version": "1.5.0",
     "model_name": "HTMLModel",
     "state": {
      "_dom_classes": [],
      "_model_module": "@jupyter-widgets/controls",
      "_model_module_version": "1.5.0",
      "_model_name": "HTMLModel",
      "_view_count": null,
      "_view_module": "@jupyter-widgets/controls",
      "_view_module_version": "1.5.0",
      "_view_name": "HTMLView",
      "description": "",
      "description_tooltip": null,
      "layout": "IPY_MODEL_849c2b39725e4b329c15292484c7d48d",
      "placeholder": "​",
      "style": "IPY_MODEL_51383fe459554ef689c8c7bffc55d5a7",
      "value": " 9942/0 [00:00&lt;00:00, 53004.88 examples/s]"
     }
    },
    "e71d75214272480c9281d4a66915c7c2": {
     "model_module": "@jupyter-widgets/base",
     "model_module_version": "1.2.0",
     "model_name": "LayoutModel",
     "state": {
      "_model_module": "@jupyter-widgets/base",
      "_model_module_version": "1.2.0",
      "_model_name": "LayoutModel",
      "_view_count": null,
      "_view_module": "@jupyter-widgets/base",
      "_view_module_version": "1.2.0",
      "_view_name": "LayoutView",
      "align_content": null,
      "align_items": null,
      "align_self": null,
      "border": null,
      "bottom": null,
      "display": null,
      "flex": null,
      "flex_flow": null,
      "grid_area": null,
      "grid_auto_columns": null,
      "grid_auto_flow": null,
      "grid_auto_rows": null,
      "grid_column": null,
      "grid_gap": null,
      "grid_row": null,
      "grid_template_areas": null,
      "grid_template_columns": null,
      "grid_template_rows": null,
      "height": null,
      "justify_content": null,
      "justify_items": null,
      "left": null,
      "margin": null,
      "max_height": null,
      "max_width": null,
      "min_height": null,
      "min_width": null,
      "object_fit": null,
      "object_position": null,
      "order": null,
      "overflow": null,
      "overflow_x": null,
      "overflow_y": null,
      "padding": null,
      "right": null,
      "top": null,
      "visibility": null,
      "width": null
     }
    },
    "e810966dbf2940619446af10b4cf2ba9": {
     "model_module": "@jupyter-widgets/controls",
     "model_module_version": "1.5.0",
     "model_name": "DescriptionStyleModel",
     "state": {
      "_model_module": "@jupyter-widgets/controls",
      "_model_module_version": "1.5.0",
      "_model_name": "DescriptionStyleModel",
      "_view_count": null,
      "_view_module": "@jupyter-widgets/base",
      "_view_module_version": "1.2.0",
      "_view_name": "StyleView",
      "description_width": ""
     }
    },
    "e967c6fd4e0143f1aed9d7798f8ab5f6": {
     "model_module": "@jupyter-widgets/base",
     "model_module_version": "1.2.0",
     "model_name": "LayoutModel",
     "state": {
      "_model_module": "@jupyter-widgets/base",
      "_model_module_version": "1.2.0",
      "_model_name": "LayoutModel",
      "_view_count": null,
      "_view_module": "@jupyter-widgets/base",
      "_view_module_version": "1.2.0",
      "_view_name": "LayoutView",
      "align_content": null,
      "align_items": null,
      "align_self": null,
      "border": null,
      "bottom": null,
      "display": null,
      "flex": null,
      "flex_flow": null,
      "grid_area": null,
      "grid_auto_columns": null,
      "grid_auto_flow": null,
      "grid_auto_rows": null,
      "grid_column": null,
      "grid_gap": null,
      "grid_row": null,
      "grid_template_areas": null,
      "grid_template_columns": null,
      "grid_template_rows": null,
      "height": null,
      "justify_content": null,
      "justify_items": null,
      "left": null,
      "margin": null,
      "max_height": null,
      "max_width": null,
      "min_height": null,
      "min_width": null,
      "object_fit": null,
      "object_position": null,
      "order": null,
      "overflow": null,
      "overflow_x": null,
      "overflow_y": null,
      "padding": null,
      "right": null,
      "top": null,
      "visibility": null,
      "width": null
     }
    },
    "ec31a20da16b4bcebbb015f46651a0da": {
     "model_module": "@jupyter-widgets/controls",
     "model_module_version": "1.5.0",
     "model_name": "HTMLModel",
     "state": {
      "_dom_classes": [],
      "_model_module": "@jupyter-widgets/controls",
      "_model_module_version": "1.5.0",
      "_model_name": "HTMLModel",
      "_view_count": null,
      "_view_module": "@jupyter-widgets/controls",
      "_view_module_version": "1.5.0",
      "_view_name": "HTMLView",
      "description": "",
      "description_tooltip": null,
      "layout": "IPY_MODEL_02a351363aac478ca4c5721322f29752",
      "placeholder": "​",
      "style": "IPY_MODEL_99142e5e6a0f4fdd8feed72b9e8124fa",
      "value": " 207k/207k [00:00&lt;00:00, 3.08MB/s]"
     }
    },
    "ecaf51f157bc42b8bda51b5cae1584d1": {
     "model_module": "@jupyter-widgets/base",
     "model_module_version": "1.2.0",
     "model_name": "LayoutModel",
     "state": {
      "_model_module": "@jupyter-widgets/base",
      "_model_module_version": "1.2.0",
      "_model_name": "LayoutModel",
      "_view_count": null,
      "_view_module": "@jupyter-widgets/base",
      "_view_module_version": "1.2.0",
      "_view_name": "LayoutView",
      "align_content": null,
      "align_items": null,
      "align_self": null,
      "border": null,
      "bottom": null,
      "display": null,
      "flex": null,
      "flex_flow": null,
      "grid_area": null,
      "grid_auto_columns": null,
      "grid_auto_flow": null,
      "grid_auto_rows": null,
      "grid_column": null,
      "grid_gap": null,
      "grid_row": null,
      "grid_template_areas": null,
      "grid_template_columns": null,
      "grid_template_rows": null,
      "height": null,
      "justify_content": null,
      "justify_items": null,
      "left": null,
      "margin": null,
      "max_height": null,
      "max_width": null,
      "min_height": null,
      "min_width": null,
      "object_fit": null,
      "object_position": null,
      "order": null,
      "overflow": null,
      "overflow_x": null,
      "overflow_y": null,
      "padding": null,
      "right": null,
      "top": null,
      "visibility": null,
      "width": null
     }
    },
    "ed8cf62963894de99b2420e395002739": {
     "model_module": "@jupyter-widgets/base",
     "model_module_version": "1.2.0",
     "model_name": "LayoutModel",
     "state": {
      "_model_module": "@jupyter-widgets/base",
      "_model_module_version": "1.2.0",
      "_model_name": "LayoutModel",
      "_view_count": null,
      "_view_module": "@jupyter-widgets/base",
      "_view_module_version": "1.2.0",
      "_view_name": "LayoutView",
      "align_content": null,
      "align_items": null,
      "align_self": null,
      "border": null,
      "bottom": null,
      "display": null,
      "flex": null,
      "flex_flow": null,
      "grid_area": null,
      "grid_auto_columns": null,
      "grid_auto_flow": null,
      "grid_auto_rows": null,
      "grid_column": null,
      "grid_gap": null,
      "grid_row": null,
      "grid_template_areas": null,
      "grid_template_columns": null,
      "grid_template_rows": null,
      "height": null,
      "justify_content": null,
      "justify_items": null,
      "left": null,
      "margin": null,
      "max_height": null,
      "max_width": null,
      "min_height": null,
      "min_width": null,
      "object_fit": null,
      "object_position": null,
      "order": null,
      "overflow": null,
      "overflow_x": null,
      "overflow_y": null,
      "padding": null,
      "right": null,
      "top": null,
      "visibility": null,
      "width": null
     }
    },
    "f0c19c7674c84f68b1b5e5ee8d95d1e6": {
     "model_module": "@jupyter-widgets/base",
     "model_module_version": "1.2.0",
     "model_name": "LayoutModel",
     "state": {
      "_model_module": "@jupyter-widgets/base",
      "_model_module_version": "1.2.0",
      "_model_name": "LayoutModel",
      "_view_count": null,
      "_view_module": "@jupyter-widgets/base",
      "_view_module_version": "1.2.0",
      "_view_name": "LayoutView",
      "align_content": null,
      "align_items": null,
      "align_self": null,
      "border": null,
      "bottom": null,
      "display": null,
      "flex": null,
      "flex_flow": null,
      "grid_area": null,
      "grid_auto_columns": null,
      "grid_auto_flow": null,
      "grid_auto_rows": null,
      "grid_column": null,
      "grid_gap": null,
      "grid_row": null,
      "grid_template_areas": null,
      "grid_template_columns": null,
      "grid_template_rows": null,
      "height": null,
      "justify_content": null,
      "justify_items": null,
      "left": null,
      "margin": null,
      "max_height": null,
      "max_width": null,
      "min_height": null,
      "min_width": null,
      "object_fit": null,
      "object_position": null,
      "order": null,
      "overflow": null,
      "overflow_x": null,
      "overflow_y": null,
      "padding": null,
      "right": null,
      "top": null,
      "visibility": null,
      "width": null
     }
    },
    "f17dd0ca5050459eb15f91f47a574dcc": {
     "model_module": "@jupyter-widgets/controls",
     "model_module_version": "1.5.0",
     "model_name": "DescriptionStyleModel",
     "state": {
      "_model_module": "@jupyter-widgets/controls",
      "_model_module_version": "1.5.0",
      "_model_name": "DescriptionStyleModel",
      "_view_count": null,
      "_view_module": "@jupyter-widgets/base",
      "_view_module_version": "1.2.0",
      "_view_name": "StyleView",
      "description_width": ""
     }
    },
    "f8496495cc9e4c06be42e9ac8d80ce22": {
     "model_module": "@jupyter-widgets/base",
     "model_module_version": "1.2.0",
     "model_name": "LayoutModel",
     "state": {
      "_model_module": "@jupyter-widgets/base",
      "_model_module_version": "1.2.0",
      "_model_name": "LayoutModel",
      "_view_count": null,
      "_view_module": "@jupyter-widgets/base",
      "_view_module_version": "1.2.0",
      "_view_name": "LayoutView",
      "align_content": null,
      "align_items": null,
      "align_self": null,
      "border": null,
      "bottom": null,
      "display": null,
      "flex": null,
      "flex_flow": null,
      "grid_area": null,
      "grid_auto_columns": null,
      "grid_auto_flow": null,
      "grid_auto_rows": null,
      "grid_column": null,
      "grid_gap": null,
      "grid_row": null,
      "grid_template_areas": null,
      "grid_template_columns": null,
      "grid_template_rows": null,
      "height": null,
      "justify_content": null,
      "justify_items": null,
      "left": null,
      "margin": null,
      "max_height": null,
      "max_width": null,
      "min_height": null,
      "min_width": null,
      "object_fit": null,
      "object_position": null,
      "order": null,
      "overflow": null,
      "overflow_x": null,
      "overflow_y": null,
      "padding": null,
      "right": null,
      "top": null,
      "visibility": null,
      "width": null
     }
    },
    "fabf5a6086ba402ab98d97321c288f16": {
     "model_module": "@jupyter-widgets/controls",
     "model_module_version": "1.5.0",
     "model_name": "FloatProgressModel",
     "state": {
      "_dom_classes": [],
      "_model_module": "@jupyter-widgets/controls",
      "_model_module_version": "1.5.0",
      "_model_name": "FloatProgressModel",
      "_view_count": null,
      "_view_module": "@jupyter-widgets/controls",
      "_view_module_version": "1.5.0",
      "_view_name": "ProgressView",
      "bar_style": "info",
      "description": "",
      "description_tooltip": null,
      "layout": "IPY_MODEL_838315d3d6fa4d92a95bc272714b96e5",
      "max": 1,
      "min": 0,
      "orientation": "horizontal",
      "style": "IPY_MODEL_2c8f387e9e1a42049ade356b44dd16a5",
      "value": 1
     }
    },
    "fb753bdec9db4ef89afcffe2a82ecbc1": {
     "model_module": "@jupyter-widgets/base",
     "model_module_version": "1.2.0",
     "model_name": "LayoutModel",
     "state": {
      "_model_module": "@jupyter-widgets/base",
      "_model_module_version": "1.2.0",
      "_model_name": "LayoutModel",
      "_view_count": null,
      "_view_module": "@jupyter-widgets/base",
      "_view_module_version": "1.2.0",
      "_view_name": "LayoutView",
      "align_content": null,
      "align_items": null,
      "align_self": null,
      "border": null,
      "bottom": null,
      "display": null,
      "flex": null,
      "flex_flow": null,
      "grid_area": null,
      "grid_auto_columns": null,
      "grid_auto_flow": null,
      "grid_auto_rows": null,
      "grid_column": null,
      "grid_gap": null,
      "grid_row": null,
      "grid_template_areas": null,
      "grid_template_columns": null,
      "grid_template_rows": null,
      "height": null,
      "justify_content": null,
      "justify_items": null,
      "left": null,
      "margin": null,
      "max_height": null,
      "max_width": null,
      "min_height": null,
      "min_width": null,
      "object_fit": null,
      "object_position": null,
      "order": null,
      "overflow": null,
      "overflow_x": null,
      "overflow_y": null,
      "padding": null,
      "right": null,
      "top": null,
      "visibility": null,
      "width": null
     }
    }
   }
  }
 },
 "nbformat": 4,
 "nbformat_minor": 1
}
